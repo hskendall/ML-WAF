{
 "cells": [
  {
   "cell_type": "markdown",
   "metadata": {},
   "source": [
    "# Web Application Firewall using Machine Learning"
   ]
  },
  {
   "cell_type": "markdown",
   "metadata": {},
   "source": [
    "## 0. Import Dependancies"
   ]
  },
  {
   "cell_type": "code",
   "execution_count": 1,
   "metadata": {},
   "outputs": [
    {
     "name": "stderr",
     "output_type": "stream",
     "text": [
      "/anaconda3/lib/python3.6/site-packages/sklearn/cross_validation.py:41: DeprecationWarning: This module was deprecated in version 0.18 in favor of the model_selection module into which all the refactored classes and functions are moved. Also note that the interface of the new CV iterators are different from that of this module. This module will be removed in 0.20.\n",
      "  \"This module will be removed in 0.20.\", DeprecationWarning)\n"
     ]
    }
   ],
   "source": [
    "import numpy as np\n",
    "import pandas as pd\n",
    "import csv\n",
    "import pickle\n",
    "import matplotlib.pyplot as plt\n",
    "import seaborn\n",
    "import string\n",
    "\n",
    "from IPython.display import display\n",
    "from scipy.stats import expon\n",
    "\n",
    "from sklearn.feature_selection import SelectKBest\n",
    "from sklearn.feature_selection import chi2\n",
    "from sklearn.feature_extraction.text import CountVectorizer\n",
    "from sklearn.feature_extraction.text import TfidfVectorizer\n",
    "from sklearn.model_selection import train_test_split\n",
    "from sklearn.model_selection import RandomizedSearchCV\n",
    "from sklearn.model_selection import learning_curve\n",
    "from sklearn.decomposition import TruncatedSVD\n",
    "\n",
    "from sklearn.ensemble import RandomForestClassifier\n",
    "from sklearn.svm import SVC\n",
    "\n",
    "from sklearn.model_selection import train_test_split\n",
    "\n",
    "from sklearn.cross_validation import ShuffleSplit\n",
    "from sklearn.cross_validation import KFold\n",
    "from sklearn.pipeline import Pipeline\n",
    "from sklearn.metrics import confusion_matrix\n",
    "from sklearn.metrics import roc_curve\n",
    "from sklearn.metrics import roc_auc_score"
   ]
  },
  {
   "cell_type": "markdown",
   "metadata": {},
   "source": [
    "## 1. Data Gathering"
   ]
  },
  {
   "cell_type": "raw",
   "metadata": {},
   "source": [
    "http://www.secrepo.com/\n",
    "https://github.com/foospidy/payloads"
   ]
  },
  {
   "cell_type": "markdown",
   "metadata": {},
   "source": [
    "## 2. Load Data"
   ]
  },
  {
   "cell_type": "code",
   "execution_count": 2,
   "metadata": {},
   "outputs": [],
   "source": [
    "def text_to_dataframe(src_file,is_malicious,injection_type):\n",
    "    \n",
    "    #read files from the directory\n",
    "    payloads_txt = open('data/{}.txt'.format(src_file),'r',encoding='UTF-8').readlines()\n",
    "    \n",
    "    #create pandas dataframe\n",
    "    payloads = pd.DataFrame(payloads_txt,columns=['payload'])\n",
    "    payloads['is_malicious'] = [is_malicious]*len(payloads)\n",
    "    payloads['injection_type'] = [injection_type]*len(payloads)\n",
    "    print ('Number of payloads: ' + str(len(payloads)))\n",
    "    print('First 5 lines of ' + injection_type)\n",
    "    display(payloads.head())\n",
    "    \n",
    "    return payloads"
   ]
  },
  {
   "cell_type": "code",
   "execution_count": 3,
   "metadata": {},
   "outputs": [
    {
     "name": "stdout",
     "output_type": "stream",
     "text": [
      "Number of payloads: 2181\n",
      "First 5 lines of SQLi\n"
     ]
    },
    {
     "data": {
      "text/html": [
       "<div>\n",
       "<style scoped>\n",
       "    .dataframe tbody tr th:only-of-type {\n",
       "        vertical-align: middle;\n",
       "    }\n",
       "\n",
       "    .dataframe tbody tr th {\n",
       "        vertical-align: top;\n",
       "    }\n",
       "\n",
       "    .dataframe thead th {\n",
       "        text-align: right;\n",
       "    }\n",
       "</style>\n",
       "<table border=\"1\" class=\"dataframe\">\n",
       "  <thead>\n",
       "    <tr style=\"text-align: right;\">\n",
       "      <th></th>\n",
       "      <th>payload</th>\n",
       "      <th>is_malicious</th>\n",
       "      <th>injection_type</th>\n",
       "    </tr>\n",
       "  </thead>\n",
       "  <tbody>\n",
       "    <tr>\n",
       "      <th>0</th>\n",
       "      <td>﻿'\\n</td>\n",
       "      <td>1</td>\n",
       "      <td>SQLi</td>\n",
       "    </tr>\n",
       "    <tr>\n",
       "      <th>1</th>\n",
       "      <td>a' or 1=1-- \\n</td>\n",
       "      <td>1</td>\n",
       "      <td>SQLi</td>\n",
       "    </tr>\n",
       "    <tr>\n",
       "      <th>2</th>\n",
       "      <td>\"a\"\" or 1=1--\"\\n</td>\n",
       "      <td>1</td>\n",
       "      <td>SQLi</td>\n",
       "    </tr>\n",
       "    <tr>\n",
       "      <th>3</th>\n",
       "      <td>or a = a\\n</td>\n",
       "      <td>1</td>\n",
       "      <td>SQLi</td>\n",
       "    </tr>\n",
       "    <tr>\n",
       "      <th>4</th>\n",
       "      <td>a' or 'a' = 'a\\n</td>\n",
       "      <td>1</td>\n",
       "      <td>SQLi</td>\n",
       "    </tr>\n",
       "  </tbody>\n",
       "</table>\n",
       "</div>"
      ],
      "text/plain": [
       "            payload  is_malicious injection_type\n",
       "0              ﻿'\\n             1           SQLi\n",
       "1    a' or 1=1-- \\n             1           SQLi\n",
       "2  \"a\"\" or 1=1--\"\\n             1           SQLi\n",
       "3        or a = a\\n             1           SQLi\n",
       "4  a' or 'a' = 'a\\n             1           SQLi"
      ]
     },
     "metadata": {},
     "output_type": "display_data"
    },
    {
     "name": "stdout",
     "output_type": "stream",
     "text": [
      "Number of payloads: 15395\n",
      "First 5 lines of XSS\n"
     ]
    },
    {
     "data": {
      "text/html": [
       "<div>\n",
       "<style scoped>\n",
       "    .dataframe tbody tr th:only-of-type {\n",
       "        vertical-align: middle;\n",
       "    }\n",
       "\n",
       "    .dataframe tbody tr th {\n",
       "        vertical-align: top;\n",
       "    }\n",
       "\n",
       "    .dataframe thead th {\n",
       "        text-align: right;\n",
       "    }\n",
       "</style>\n",
       "<table border=\"1\" class=\"dataframe\">\n",
       "  <thead>\n",
       "    <tr style=\"text-align: right;\">\n",
       "      <th></th>\n",
       "      <th>payload</th>\n",
       "      <th>is_malicious</th>\n",
       "      <th>injection_type</th>\n",
       "    </tr>\n",
       "  </thead>\n",
       "  <tbody>\n",
       "    <tr>\n",
       "      <th>0</th>\n",
       "      <td>﻿data:text/html;alert(1)/*,&lt;svg%20onload=eval(...</td>\n",
       "      <td>1</td>\n",
       "      <td>XSS</td>\n",
       "    </tr>\n",
       "    <tr>\n",
       "      <th>1</th>\n",
       "      <td>'\"&gt;*/--&gt;&lt;/title&gt;&lt;/style&gt;&lt;/textarea&gt;&lt;/script%0A...</td>\n",
       "      <td>1</td>\n",
       "      <td>XSS</td>\n",
       "    </tr>\n",
       "    <tr>\n",
       "      <th>2</th>\n",
       "      <td>\" onclick=alert(1)//&lt;button ‘ onclick=alert(1)...</td>\n",
       "      <td>1</td>\n",
       "      <td>XSS</td>\n",
       "    </tr>\n",
       "    <tr>\n",
       "      <th>3</th>\n",
       "      <td>';alert(String.fromCharCode(88,83,83))//';aler...</td>\n",
       "      <td>1</td>\n",
       "      <td>XSS</td>\n",
       "    </tr>\n",
       "    <tr>\n",
       "      <th>4</th>\n",
       "      <td>\"&gt;&gt;&lt;marquee&gt;&lt;img src=x onerror=confirm(1)&gt;&lt;/ma...</td>\n",
       "      <td>1</td>\n",
       "      <td>XSS</td>\n",
       "    </tr>\n",
       "  </tbody>\n",
       "</table>\n",
       "</div>"
      ],
      "text/plain": [
       "                                             payload  is_malicious  \\\n",
       "0  ﻿data:text/html;alert(1)/*,<svg%20onload=eval(...             1   \n",
       "1  '\">*/--></title></style></textarea></script%0A...             1   \n",
       "2  \" onclick=alert(1)//<button ‘ onclick=alert(1)...             1   \n",
       "3  ';alert(String.fromCharCode(88,83,83))//';aler...             1   \n",
       "4  \">><marquee><img src=x onerror=confirm(1)></ma...             1   \n",
       "\n",
       "  injection_type  \n",
       "0            XSS  \n",
       "1            XSS  \n",
       "2            XSS  \n",
       "3            XSS  \n",
       "4            XSS  "
      ]
     },
     "metadata": {},
     "output_type": "display_data"
    },
    {
     "name": "stdout",
     "output_type": "stream",
     "text": [
      "Number of payloads: 330\n",
      "First 5 lines of SHELL\n"
     ]
    },
    {
     "data": {
      "text/html": [
       "<div>\n",
       "<style scoped>\n",
       "    .dataframe tbody tr th:only-of-type {\n",
       "        vertical-align: middle;\n",
       "    }\n",
       "\n",
       "    .dataframe tbody tr th {\n",
       "        vertical-align: top;\n",
       "    }\n",
       "\n",
       "    .dataframe thead th {\n",
       "        text-align: right;\n",
       "    }\n",
       "</style>\n",
       "<table border=\"1\" class=\"dataframe\">\n",
       "  <thead>\n",
       "    <tr style=\"text-align: right;\">\n",
       "      <th></th>\n",
       "      <th>payload</th>\n",
       "      <th>is_malicious</th>\n",
       "      <th>injection_type</th>\n",
       "    </tr>\n",
       "  </thead>\n",
       "  <tbody>\n",
       "    <tr>\n",
       "      <th>0</th>\n",
       "      <td>() { 0; }; touch /tmp/blns.shellshock1.fail;\\n</td>\n",
       "      <td>1</td>\n",
       "      <td>SHELL</td>\n",
       "    </tr>\n",
       "    <tr>\n",
       "      <th>1</th>\n",
       "      <td>() { _; } &gt;_[$($())] { touch /tmp/blns.shellsh...</td>\n",
       "      <td>1</td>\n",
       "      <td>SHELL</td>\n",
       "    </tr>\n",
       "    <tr>\n",
       "      <th>2</th>\n",
       "      <td>&lt;&lt;&lt; %s(un='%s') = %u\\n</td>\n",
       "      <td>1</td>\n",
       "      <td>SHELL</td>\n",
       "    </tr>\n",
       "    <tr>\n",
       "      <th>3</th>\n",
       "      <td>'+++ATH0\\n</td>\n",
       "      <td>1</td>\n",
       "      <td>SHELL</td>\n",
       "    </tr>\n",
       "    <tr>\n",
       "      <th>4</th>\n",
       "      <td>/dev/null; touch /tmp/blns.fail ; echo\\n</td>\n",
       "      <td>1</td>\n",
       "      <td>SHELL</td>\n",
       "    </tr>\n",
       "  </tbody>\n",
       "</table>\n",
       "</div>"
      ],
      "text/plain": [
       "                                             payload  is_malicious  \\\n",
       "0     () { 0; }; touch /tmp/blns.shellshock1.fail;\\n             1   \n",
       "1  () { _; } >_[$($())] { touch /tmp/blns.shellsh...             1   \n",
       "2                             <<< %s(un='%s') = %u\\n             1   \n",
       "3                                         '+++ATH0\\n             1   \n",
       "4           /dev/null; touch /tmp/blns.fail ; echo\\n             1   \n",
       "\n",
       "  injection_type  \n",
       "0          SHELL  \n",
       "1          SHELL  \n",
       "2          SHELL  \n",
       "3          SHELL  \n",
       "4          SHELL  "
      ]
     },
     "metadata": {},
     "output_type": "display_data"
    },
    {
     "name": "stdout",
     "output_type": "stream",
     "text": [
      "Number of payloads: 118530\n",
      "First 5 lines of VALID\n"
     ]
    },
    {
     "data": {
      "text/html": [
       "<div>\n",
       "<style scoped>\n",
       "    .dataframe tbody tr th:only-of-type {\n",
       "        vertical-align: middle;\n",
       "    }\n",
       "\n",
       "    .dataframe tbody tr th {\n",
       "        vertical-align: top;\n",
       "    }\n",
       "\n",
       "    .dataframe thead th {\n",
       "        text-align: right;\n",
       "    }\n",
       "</style>\n",
       "<table border=\"1\" class=\"dataframe\">\n",
       "  <thead>\n",
       "    <tr style=\"text-align: right;\">\n",
       "      <th></th>\n",
       "      <th>payload</th>\n",
       "      <th>is_malicious</th>\n",
       "      <th>injection_type</th>\n",
       "    </tr>\n",
       "  </thead>\n",
       "  <tbody>\n",
       "    <tr>\n",
       "      <th>0</th>\n",
       "      <td>569993989\\n</td>\n",
       "      <td>0</td>\n",
       "      <td>VALID</td>\n",
       "    </tr>\n",
       "    <tr>\n",
       "      <th>1</th>\n",
       "      <td>46201\\n</td>\n",
       "      <td>0</td>\n",
       "      <td>VALID</td>\n",
       "    </tr>\n",
       "    <tr>\n",
       "      <th>2</th>\n",
       "      <td>Indianapolis\\n</td>\n",
       "      <td>0</td>\n",
       "      <td>VALID</td>\n",
       "    </tr>\n",
       "    <tr>\n",
       "      <th>3</th>\n",
       "      <td>20354328\\n</td>\n",
       "      <td>0</td>\n",
       "      <td>VALID</td>\n",
       "    </tr>\n",
       "    <tr>\n",
       "      <th>4</th>\n",
       "      <td>A8Cyj4uzrSgkGg4szKuHeI\\n</td>\n",
       "      <td>0</td>\n",
       "      <td>VALID</td>\n",
       "    </tr>\n",
       "  </tbody>\n",
       "</table>\n",
       "</div>"
      ],
      "text/plain": [
       "                    payload  is_malicious injection_type\n",
       "0               569993989\\n             0          VALID\n",
       "1                   46201\\n             0          VALID\n",
       "2            Indianapolis\\n             0          VALID\n",
       "3                20354328\\n             0          VALID\n",
       "4  A8Cyj4uzrSgkGg4szKuHeI\\n             0          VALID"
      ]
     },
     "metadata": {},
     "output_type": "display_data"
    }
   ],
   "source": [
    "#concatenate all payload dataframes together\n",
    "payloads = pd.DataFrame(columns=['payload','is_malicious','injection_type'])\n",
    "payloads = payloads.append(text_to_dataframe('SQLiPayload',1,'SQLi'))\n",
    "payloads = payloads.append(text_to_dataframe('XSSPayload',1,'XSS'))\n",
    "payloads = payloads.append(text_to_dataframe('ShellPayload',1,'SHELL'))\n",
    "payloads = payloads.append(text_to_dataframe('NormalData',0,'VALID'))\n",
    "payloads = payloads.reset_index(drop=True)"
   ]
  },
  {
   "cell_type": "markdown",
   "metadata": {},
   "source": [
    "## 3. Data Cleaning"
   ]
  },
  {
   "cell_type": "markdown",
   "metadata": {},
   "source": [
    "### 1. Remove new lines and white spaces"
   ]
  },
  {
   "cell_type": "code",
   "execution_count": 4,
   "metadata": {},
   "outputs": [],
   "source": [
    "payloads['payload'] = payloads['payload'].str.strip('\\n')\n",
    "payloads['payload'] = payloads['payload'].str.strip()"
   ]
  },
  {
   "cell_type": "markdown",
   "metadata": {},
   "source": [
    "### 2. Remove empty data points"
   ]
  },
  {
   "cell_type": "code",
   "execution_count": 5,
   "metadata": {},
   "outputs": [
    {
     "name": "stdout",
     "output_type": "stream",
     "text": [
      "Empty data points removed: 1\n"
     ]
    }
   ],
   "source": [
    "orig_data = len(payloads['payload'])\n",
    "payloads = payloads[payloads['payload'].str.len() != 0]\n",
    "print('Empty data points removed: ' + str(orig_data - len(payloads)))"
   ]
  },
  {
   "cell_type": "markdown",
   "metadata": {},
   "source": [
    "### 3. Remove malicious data points of length 1"
   ]
  },
  {
   "cell_type": "code",
   "execution_count": 6,
   "metadata": {},
   "outputs": [
    {
     "name": "stdout",
     "output_type": "stream",
     "text": [
      "Malicious data points of size 1 removed: 3\n"
     ]
    }
   ],
   "source": [
    "orig_data = len(payloads['payload'])\n",
    "payloads = payloads[(payloads['is_malicious'] == 0) | ((payloads['is_malicious'] == 1) & (payloads['payload'].str.len() > 1))]\n",
    "print('Malicious data points of size 1 removed: ' + str(orig_data-len(payloads)))"
   ]
  },
  {
   "cell_type": "markdown",
   "metadata": {},
   "source": [
    "### 4. Remove duplicates"
   ]
  },
  {
   "cell_type": "code",
   "execution_count": 7,
   "metadata": {},
   "outputs": [
    {
     "name": "stdout",
     "output_type": "stream",
     "text": [
      "Duplicate data points removed: 26072\n"
     ]
    }
   ],
   "source": [
    "orig_data = len(payloads['payload'])\n",
    "payloads = payloads.drop_duplicates(subset='payload', keep='last')\n",
    "print('Duplicate data points removed: ' + str(orig_data-len(payloads)))"
   ]
  },
  {
   "cell_type": "markdown",
   "metadata": {},
   "source": [
    "### 5. Reformat rows that to uniform format"
   ]
  },
  {
   "cell_type": "code",
   "execution_count": 8,
   "metadata": {},
   "outputs": [],
   "source": [
    "payloads['payload'] = [payload[2:-1] if payload.startswith(\"b'\") or payload.startswith('b\"') \n",
    "                        else payload for payload in payloads['payload']]"
   ]
  },
  {
   "cell_type": "markdown",
   "metadata": {},
   "source": [
    "### 6. Shuffle dataset"
   ]
  },
  {
   "cell_type": "code",
   "execution_count": 9,
   "metadata": {},
   "outputs": [],
   "source": [
    "payloads = payloads.sample(frac=1).reset_index(drop=True)\n",
    "payloads.index.name = 'index'"
   ]
  },
  {
   "cell_type": "markdown",
   "metadata": {},
   "source": [
    "### 7. Remove null/NA/NaN as this can not be saved into .csv"
   ]
  },
  {
   "cell_type": "code",
   "execution_count": 10,
   "metadata": {},
   "outputs": [
    {
     "name": "stdout",
     "output_type": "stream",
     "text": [
      "null/NaN data points removed: 4\n"
     ]
    }
   ],
   "source": [
    "payloads.to_csv('data/payloads.csv',encoding='UTF-8')\n",
    "#reload dataframe from saved .csv. The dataframe will contain a few null values\n",
    "payloads = pd.read_csv(\"data/payloads.csv\",index_col='index',encoding='UTF-8') \n",
    "rows_before = len(payloads['payload'])\n",
    "payloads = payloads[~payloads['payload'].isnull()]\n",
    "print('null/NaN data points removed: ' + str(rows_before-len(payloads)))"
   ]
  },
  {
   "cell_type": "markdown",
   "metadata": {},
   "source": [
    "### 8. Save data to csv"
   ]
  },
  {
   "cell_type": "code",
   "execution_count": 11,
   "metadata": {},
   "outputs": [],
   "source": [
    "payloads.to_csv('data/payloads.csv',encoding='UTF-8')"
   ]
  },
  {
   "cell_type": "markdown",
   "metadata": {},
   "source": [
    "### 9. Load data from payload.csv to pandas dataframe"
   ]
  },
  {
   "cell_type": "code",
   "execution_count": 12,
   "metadata": {},
   "outputs": [
    {
     "data": {
      "text/html": [
       "<div>\n",
       "<style scoped>\n",
       "    .dataframe tbody tr th:only-of-type {\n",
       "        vertical-align: middle;\n",
       "    }\n",
       "\n",
       "    .dataframe tbody tr th {\n",
       "        vertical-align: top;\n",
       "    }\n",
       "\n",
       "    .dataframe thead th {\n",
       "        text-align: right;\n",
       "    }\n",
       "</style>\n",
       "<table border=\"1\" class=\"dataframe\">\n",
       "  <thead>\n",
       "    <tr style=\"text-align: right;\">\n",
       "      <th></th>\n",
       "      <th>payload</th>\n",
       "      <th>is_malicious</th>\n",
       "      <th>injection_type</th>\n",
       "    </tr>\n",
       "    <tr>\n",
       "      <th>index</th>\n",
       "      <th></th>\n",
       "      <th></th>\n",
       "      <th></th>\n",
       "    </tr>\n",
       "  </thead>\n",
       "  <tbody>\n",
       "    <tr>\n",
       "      <th>0</th>\n",
       "      <td>&lt;div style=\"list-style:url(http://foo.f)\\20url...</td>\n",
       "      <td>1</td>\n",
       "      <td>XSS</td>\n",
       "    </tr>\n",
       "    <tr>\n",
       "      <th>1</th>\n",
       "      <td>74345001P</td>\n",
       "      <td>0</td>\n",
       "      <td>VALID</td>\n",
       "    </tr>\n",
       "    <tr>\n",
       "      <th>2</th>\n",
       "      <td>broccoli</td>\n",
       "      <td>0</td>\n",
       "      <td>VALID</td>\n",
       "    </tr>\n",
       "    <tr>\n",
       "      <th>3</th>\n",
       "      <td>&lt;iframe src=`http://xssme.html5sec.org/?xss=&lt;i...</td>\n",
       "      <td>1</td>\n",
       "      <td>XSS</td>\n",
       "    </tr>\n",
       "    <tr>\n",
       "      <th>4</th>\n",
       "      <td>federally</td>\n",
       "      <td>0</td>\n",
       "      <td>VALID</td>\n",
       "    </tr>\n",
       "  </tbody>\n",
       "</table>\n",
       "</div>"
      ],
      "text/plain": [
       "                                                 payload  is_malicious  \\\n",
       "index                                                                    \n",
       "0      <div style=\"list-style:url(http://foo.f)\\20url...             1   \n",
       "1                                              74345001P             0   \n",
       "2                                               broccoli             0   \n",
       "3      <iframe src=`http://xssme.html5sec.org/?xss=<i...             1   \n",
       "4                                              federally             0   \n",
       "\n",
       "      injection_type  \n",
       "index                 \n",
       "0                XSS  \n",
       "1              VALID  \n",
       "2              VALID  \n",
       "3                XSS  \n",
       "4              VALID  "
      ]
     },
     "metadata": {},
     "output_type": "display_data"
    }
   ],
   "source": [
    "payloads = pd.read_csv(\"data/payloads.csv\",index_col='index')\n",
    "display(payloads.head(5))"
   ]
  },
  {
   "cell_type": "markdown",
   "metadata": {},
   "source": [
    "## 4. Feature Engineering"
   ]
  },
  {
   "cell_type": "code",
   "execution_count": 13,
   "metadata": {},
   "outputs": [],
   "source": [
    "# Plot Function\n",
    "def plot_feature_distribution(features):\n",
    "    print('Properties of feature: ' + features.name)\n",
    "    print(features.describe())\n",
    "    f, ax = plt.subplots(1, figsize=(10, 8))\n",
    "    ax.hist(features, bins=features.max()-features.min()+1, normed=1)\n",
    "    ax.set_xlabel('value')\n",
    "    ax.set_ylabel('fraction')\n",
    "    \n",
    "    plt.show()"
   ]
  },
  {
   "cell_type": "markdown",
   "metadata": {},
   "source": [
    "### 1. Length of payload"
   ]
  },
  {
   "cell_type": "code",
   "execution_count": 14,
   "metadata": {},
   "outputs": [
    {
     "data": {
      "text/html": [
       "<div>\n",
       "<style scoped>\n",
       "    .dataframe tbody tr th:only-of-type {\n",
       "        vertical-align: middle;\n",
       "    }\n",
       "\n",
       "    .dataframe tbody tr th {\n",
       "        vertical-align: top;\n",
       "    }\n",
       "\n",
       "    .dataframe thead th {\n",
       "        text-align: right;\n",
       "    }\n",
       "</style>\n",
       "<table border=\"1\" class=\"dataframe\">\n",
       "  <thead>\n",
       "    <tr style=\"text-align: right;\">\n",
       "      <th></th>\n",
       "      <th>payload</th>\n",
       "      <th>is_malicious</th>\n",
       "      <th>injection_type</th>\n",
       "      <th>length</th>\n",
       "    </tr>\n",
       "    <tr>\n",
       "      <th>index</th>\n",
       "      <th></th>\n",
       "      <th></th>\n",
       "      <th></th>\n",
       "      <th></th>\n",
       "    </tr>\n",
       "  </thead>\n",
       "  <tbody>\n",
       "    <tr>\n",
       "      <th>0</th>\n",
       "      <td>&lt;div style=\"list-style:url(http://foo.f)\\20url...</td>\n",
       "      <td>1</td>\n",
       "      <td>XSS</td>\n",
       "      <td>82</td>\n",
       "    </tr>\n",
       "    <tr>\n",
       "      <th>1</th>\n",
       "      <td>74345001P</td>\n",
       "      <td>0</td>\n",
       "      <td>VALID</td>\n",
       "      <td>9</td>\n",
       "    </tr>\n",
       "    <tr>\n",
       "      <th>2</th>\n",
       "      <td>broccoli</td>\n",
       "      <td>0</td>\n",
       "      <td>VALID</td>\n",
       "      <td>8</td>\n",
       "    </tr>\n",
       "    <tr>\n",
       "      <th>3</th>\n",
       "      <td>&lt;iframe src=`http://xssme.html5sec.org/?xss=&lt;i...</td>\n",
       "      <td>1</td>\n",
       "      <td>XSS</td>\n",
       "      <td>280</td>\n",
       "    </tr>\n",
       "    <tr>\n",
       "      <th>4</th>\n",
       "      <td>federally</td>\n",
       "      <td>0</td>\n",
       "      <td>VALID</td>\n",
       "      <td>9</td>\n",
       "    </tr>\n",
       "    <tr>\n",
       "      <th>5</th>\n",
       "      <td>Ninon</td>\n",
       "      <td>0</td>\n",
       "      <td>VALID</td>\n",
       "      <td>5</td>\n",
       "    </tr>\n",
       "    <tr>\n",
       "      <th>6</th>\n",
       "      <td>lamargue%40blogsmegumi.cs</td>\n",
       "      <td>0</td>\n",
       "      <td>VALID</td>\n",
       "      <td>25</td>\n",
       "    </tr>\n",
       "    <tr>\n",
       "      <th>7</th>\n",
       "      <td>San+Vicente+del+Raspeig%2FSant+Vicent+del+Raspeig</td>\n",
       "      <td>0</td>\n",
       "      <td>VALID</td>\n",
       "      <td>49</td>\n",
       "    </tr>\n",
       "    <tr>\n",
       "      <th>8</th>\n",
       "      <td>19277401C</td>\n",
       "      <td>0</td>\n",
       "      <td>VALID</td>\n",
       "      <td>9</td>\n",
       "    </tr>\n",
       "    <tr>\n",
       "      <th>9</th>\n",
       "      <td>17407532979210782475</td>\n",
       "      <td>0</td>\n",
       "      <td>VALID</td>\n",
       "      <td>20</td>\n",
       "    </tr>\n",
       "  </tbody>\n",
       "</table>\n",
       "</div>"
      ],
      "text/plain": [
       "                                                 payload  is_malicious  \\\n",
       "index                                                                    \n",
       "0      <div style=\"list-style:url(http://foo.f)\\20url...             1   \n",
       "1                                              74345001P             0   \n",
       "2                                               broccoli             0   \n",
       "3      <iframe src=`http://xssme.html5sec.org/?xss=<i...             1   \n",
       "4                                              federally             0   \n",
       "5                                                  Ninon             0   \n",
       "6                              lamargue%40blogsmegumi.cs             0   \n",
       "7      San+Vicente+del+Raspeig%2FSant+Vicent+del+Raspeig             0   \n",
       "8                                              19277401C             0   \n",
       "9                                   17407532979210782475             0   \n",
       "\n",
       "      injection_type  length  \n",
       "index                         \n",
       "0                XSS      82  \n",
       "1              VALID       9  \n",
       "2              VALID       8  \n",
       "3                XSS     280  \n",
       "4              VALID       9  \n",
       "5              VALID       5  \n",
       "6              VALID      25  \n",
       "7              VALID      49  \n",
       "8              VALID       9  \n",
       "9              VALID      20  "
      ]
     },
     "metadata": {},
     "output_type": "display_data"
    },
    {
     "name": "stdout",
     "output_type": "stream",
     "text": [
      "Properties of feature: length\n",
      "count    110356.000000\n",
      "mean         16.559752\n",
      "std          32.108760\n",
      "min           1.000000\n",
      "25%           6.000000\n",
      "50%           9.000000\n",
      "75%          14.000000\n",
      "max         974.000000\n",
      "Name: length, dtype: float64\n"
     ]
    },
    {
     "data": {
      "image/png": "[encoded data removed]",
      "text/plain": [
       "<matplotlib.figure.Figure at 0x11071f5f8>"
      ]
     },
     "metadata": {},
     "output_type": "display_data"
    }
   ],
   "source": [
    "def feature_length(payloads):\n",
    "    payloads['length'] = [len(str(row)) for row in payloads['payload']]\n",
    "    return payloads\n",
    "\n",
    "payloads = feature_length(payloads)\n",
    "display(payloads.head(10))\n",
    "\n",
    "\n",
    "plot_feature_distribution(payloads['length'])"
   ]
  },
  {
   "cell_type": "markdown",
   "metadata": {},
   "source": [
    "### 2. Punctuation characters"
   ]
  },
  {
   "cell_type": "code",
   "execution_count": 15,
   "metadata": {},
   "outputs": [
    {
     "data": {
      "text/html": [
       "<div>\n",
       "<style scoped>\n",
       "    .dataframe tbody tr th:only-of-type {\n",
       "        vertical-align: middle;\n",
       "    }\n",
       "\n",
       "    .dataframe tbody tr th {\n",
       "        vertical-align: top;\n",
       "    }\n",
       "\n",
       "    .dataframe thead th {\n",
       "        text-align: right;\n",
       "    }\n",
       "</style>\n",
       "<table border=\"1\" class=\"dataframe\">\n",
       "  <thead>\n",
       "    <tr style=\"text-align: right;\">\n",
       "      <th></th>\n",
       "      <th>payload</th>\n",
       "      <th>is_malicious</th>\n",
       "      <th>injection_type</th>\n",
       "      <th>length</th>\n",
       "      <th>punctuation</th>\n",
       "    </tr>\n",
       "    <tr>\n",
       "      <th>index</th>\n",
       "      <th></th>\n",
       "      <th></th>\n",
       "      <th></th>\n",
       "      <th></th>\n",
       "      <th></th>\n",
       "    </tr>\n",
       "  </thead>\n",
       "  <tbody>\n",
       "    <tr>\n",
       "      <th>0</th>\n",
       "      <td>&lt;div style=\"list-style:url(http://foo.f)\\20url...</td>\n",
       "      <td>1</td>\n",
       "      <td>XSS</td>\n",
       "      <td>82</td>\n",
       "      <td>21</td>\n",
       "    </tr>\n",
       "    <tr>\n",
       "      <th>1</th>\n",
       "      <td>74345001P</td>\n",
       "      <td>0</td>\n",
       "      <td>VALID</td>\n",
       "      <td>9</td>\n",
       "      <td>0</td>\n",
       "    </tr>\n",
       "    <tr>\n",
       "      <th>2</th>\n",
       "      <td>broccoli</td>\n",
       "      <td>0</td>\n",
       "      <td>VALID</td>\n",
       "      <td>8</td>\n",
       "      <td>0</td>\n",
       "    </tr>\n",
       "    <tr>\n",
       "      <th>3</th>\n",
       "      <td>&lt;iframe src=`http://xssme.html5sec.org/?xss=&lt;i...</td>\n",
       "      <td>1</td>\n",
       "      <td>XSS</td>\n",
       "      <td>280</td>\n",
       "      <td>78</td>\n",
       "    </tr>\n",
       "    <tr>\n",
       "      <th>4</th>\n",
       "      <td>federally</td>\n",
       "      <td>0</td>\n",
       "      <td>VALID</td>\n",
       "      <td>9</td>\n",
       "      <td>0</td>\n",
       "    </tr>\n",
       "  </tbody>\n",
       "</table>\n",
       "</div>"
      ],
      "text/plain": [
       "                                                 payload  is_malicious  \\\n",
       "index                                                                    \n",
       "0      <div style=\"list-style:url(http://foo.f)\\20url...             1   \n",
       "1                                              74345001P             0   \n",
       "2                                               broccoli             0   \n",
       "3      <iframe src=`http://xssme.html5sec.org/?xss=<i...             1   \n",
       "4                                              federally             0   \n",
       "\n",
       "      injection_type  length  punctuation  \n",
       "index                                      \n",
       "0                XSS      82           21  \n",
       "1              VALID       9            0  \n",
       "2              VALID       8            0  \n",
       "3                XSS     280           78  \n",
       "4              VALID       9            0  "
      ]
     },
     "metadata": {},
     "output_type": "display_data"
    },
    {
     "name": "stdout",
     "output_type": "stream",
     "text": [
      "Properties of feature: punctuation\n",
      "count    110356.000000\n",
      "mean          2.363750\n",
      "std           9.771302\n",
      "min           0.000000\n",
      "25%           0.000000\n",
      "50%           0.000000\n",
      "75%           1.000000\n",
      "max         538.000000\n",
      "Name: punctuation, dtype: float64\n"
     ]
    },
    {
     "data": {
      "image/png": "[encoded data removed]",
      "text/plain": [
       "<matplotlib.figure.Figure at 0x1a1aa6d5f8>"
      ]
     },
     "metadata": {},
     "output_type": "display_data"
    }
   ],
   "source": [
    "def feature_punctuation_characters(payloads):\n",
    "    payloads['punctuation'] = [ len([1 for letter in str(row) if letter in string.punctuation]) for row in payloads['payload']]\n",
    "    return payloads\n",
    "    \n",
    "feature_punctuation_characters(payloads)\n",
    "display(payloads.head())\n",
    "    \n",
    "plot_feature_distribution(payloads['punctuation'])"
   ]
  },
  {
   "cell_type": "markdown",
   "metadata": {},
   "source": [
    "### 3. SQL Keywords"
   ]
  },
  {
   "cell_type": "code",
   "execution_count": 16,
   "metadata": {},
   "outputs": [
    {
     "data": {
      "text/plain": [
       "pandas.core.frame.DataFrame"
      ]
     },
     "metadata": {},
     "output_type": "display_data"
    },
    {
     "data": {
      "text/html": [
       "<div>\n",
       "<style scoped>\n",
       "    .dataframe tbody tr th:only-of-type {\n",
       "        vertical-align: middle;\n",
       "    }\n",
       "\n",
       "    .dataframe tbody tr th {\n",
       "        vertical-align: top;\n",
       "    }\n",
       "\n",
       "    .dataframe thead th {\n",
       "        text-align: right;\n",
       "    }\n",
       "</style>\n",
       "<table border=\"1\" class=\"dataframe\">\n",
       "  <thead>\n",
       "    <tr style=\"text-align: right;\">\n",
       "      <th></th>\n",
       "      <th>payload</th>\n",
       "      <th>is_malicious</th>\n",
       "      <th>injection_type</th>\n",
       "      <th>length</th>\n",
       "      <th>punctuation</th>\n",
       "      <th>sql-keywords</th>\n",
       "    </tr>\n",
       "    <tr>\n",
       "      <th>index</th>\n",
       "      <th></th>\n",
       "      <th></th>\n",
       "      <th></th>\n",
       "      <th></th>\n",
       "      <th></th>\n",
       "      <th></th>\n",
       "    </tr>\n",
       "  </thead>\n",
       "  <tbody>\n",
       "    <tr>\n",
       "      <th>0</th>\n",
       "      <td>&lt;div style=\"list-style:url(http://foo.f)\\20url...</td>\n",
       "      <td>1</td>\n",
       "      <td>XSS</td>\n",
       "      <td>82</td>\n",
       "      <td>21</td>\n",
       "      <td>1</td>\n",
       "    </tr>\n",
       "    <tr>\n",
       "      <th>1</th>\n",
       "      <td>74345001P</td>\n",
       "      <td>0</td>\n",
       "      <td>VALID</td>\n",
       "      <td>9</td>\n",
       "      <td>0</td>\n",
       "      <td>0</td>\n",
       "    </tr>\n",
       "    <tr>\n",
       "      <th>2</th>\n",
       "      <td>broccoli</td>\n",
       "      <td>0</td>\n",
       "      <td>VALID</td>\n",
       "      <td>8</td>\n",
       "      <td>0</td>\n",
       "      <td>0</td>\n",
       "    </tr>\n",
       "    <tr>\n",
       "      <th>3</th>\n",
       "      <td>&lt;iframe src=`http://xssme.html5sec.org/?xss=&lt;i...</td>\n",
       "      <td>1</td>\n",
       "      <td>XSS</td>\n",
       "      <td>280</td>\n",
       "      <td>78</td>\n",
       "      <td>6</td>\n",
       "    </tr>\n",
       "    <tr>\n",
       "      <th>4</th>\n",
       "      <td>federally</td>\n",
       "      <td>0</td>\n",
       "      <td>VALID</td>\n",
       "      <td>9</td>\n",
       "      <td>0</td>\n",
       "      <td>1</td>\n",
       "    </tr>\n",
       "  </tbody>\n",
       "</table>\n",
       "</div>"
      ],
      "text/plain": [
       "                                                 payload  is_malicious  \\\n",
       "index                                                                    \n",
       "0      <div style=\"list-style:url(http://foo.f)\\20url...             1   \n",
       "1                                              74345001P             0   \n",
       "2                                               broccoli             0   \n",
       "3      <iframe src=`http://xssme.html5sec.org/?xss=<i...             1   \n",
       "4                                              federally             0   \n",
       "\n",
       "      injection_type  length  punctuation  sql-keywords  \n",
       "index                                                    \n",
       "0                XSS      82           21             1  \n",
       "1              VALID       9            0             0  \n",
       "2              VALID       8            0             0  \n",
       "3                XSS     280           78             6  \n",
       "4              VALID       9            0             1  "
      ]
     },
     "metadata": {},
     "output_type": "display_data"
    },
    {
     "name": "stdout",
     "output_type": "stream",
     "text": [
      "Properties of feature: sql-keywords\n",
      "count    110356.000000\n",
      "mean          0.196002\n",
      "std           0.671689\n",
      "min           0.000000\n",
      "25%           0.000000\n",
      "50%           0.000000\n",
      "75%           0.000000\n",
      "max          15.000000\n",
      "Name: sql-keywords, dtype: float64\n"
     ]
    },
    {
     "data": {
      "image/png": "[encoded data removed]",
      "text/plain": [
       "<matplotlib.figure.Figure at 0x1a1aa817b8>"
      ]
     },
     "metadata": {},
     "output_type": "display_data"
    }
   ],
   "source": [
    "sql_keywords = pd.read_csv('data/SQLKeywords.txt', index_col=False)\n",
    "\n",
    "def feature_sql_keywords(payloads):\n",
    "    payloads['sql-keywords'] = [ len([1 for keyword in sql_keywords['Keyword'] if str(keyword).lower() in str(row).lower()]) for row in payloads['payload']]\n",
    "    return payloads\n",
    "\n",
    "feature_sql_keywords(payloads)\n",
    "display(type(sql_keywords))\n",
    "display(payloads.head())\n",
    "plot_feature_distribution(payloads['sql-keywords'])"
   ]
  },
  {
   "cell_type": "markdown",
   "metadata": {},
   "source": [
    "### 5. JavaScript keywords"
   ]
  },
  {
   "cell_type": "code",
   "execution_count": 17,
   "metadata": {},
   "outputs": [
    {
     "data": {
      "text/html": [
       "<div>\n",
       "<style scoped>\n",
       "    .dataframe tbody tr th:only-of-type {\n",
       "        vertical-align: middle;\n",
       "    }\n",
       "\n",
       "    .dataframe tbody tr th {\n",
       "        vertical-align: top;\n",
       "    }\n",
       "\n",
       "    .dataframe thead th {\n",
       "        text-align: right;\n",
       "    }\n",
       "</style>\n",
       "<table border=\"1\" class=\"dataframe\">\n",
       "  <thead>\n",
       "    <tr style=\"text-align: right;\">\n",
       "      <th></th>\n",
       "      <th>payload</th>\n",
       "      <th>is_malicious</th>\n",
       "      <th>injection_type</th>\n",
       "      <th>length</th>\n",
       "      <th>punctuation</th>\n",
       "      <th>sql-keywords</th>\n",
       "      <th>js-keywords</th>\n",
       "    </tr>\n",
       "    <tr>\n",
       "      <th>index</th>\n",
       "      <th></th>\n",
       "      <th></th>\n",
       "      <th></th>\n",
       "      <th></th>\n",
       "      <th></th>\n",
       "      <th></th>\n",
       "      <th></th>\n",
       "    </tr>\n",
       "  </thead>\n",
       "  <tbody>\n",
       "    <tr>\n",
       "      <th>0</th>\n",
       "      <td>&lt;div style=\"list-style:url(http://foo.f)\\20url...</td>\n",
       "      <td>1</td>\n",
       "      <td>XSS</td>\n",
       "      <td>82</td>\n",
       "      <td>21</td>\n",
       "      <td>1</td>\n",
       "      <td>1</td>\n",
       "    </tr>\n",
       "    <tr>\n",
       "      <th>1</th>\n",
       "      <td>74345001P</td>\n",
       "      <td>0</td>\n",
       "      <td>VALID</td>\n",
       "      <td>9</td>\n",
       "      <td>0</td>\n",
       "      <td>0</td>\n",
       "      <td>0</td>\n",
       "    </tr>\n",
       "    <tr>\n",
       "      <th>2</th>\n",
       "      <td>broccoli</td>\n",
       "      <td>0</td>\n",
       "      <td>VALID</td>\n",
       "      <td>8</td>\n",
       "      <td>0</td>\n",
       "      <td>0</td>\n",
       "      <td>0</td>\n",
       "    </tr>\n",
       "    <tr>\n",
       "      <th>3</th>\n",
       "      <td>&lt;iframe src=`http://xssme.html5sec.org/?xss=&lt;i...</td>\n",
       "      <td>1</td>\n",
       "      <td>XSS</td>\n",
       "      <td>280</td>\n",
       "      <td>78</td>\n",
       "      <td>6</td>\n",
       "      <td>9</td>\n",
       "    </tr>\n",
       "    <tr>\n",
       "      <th>4</th>\n",
       "      <td>federally</td>\n",
       "      <td>0</td>\n",
       "      <td>VALID</td>\n",
       "      <td>9</td>\n",
       "      <td>0</td>\n",
       "      <td>1</td>\n",
       "      <td>1</td>\n",
       "    </tr>\n",
       "  </tbody>\n",
       "</table>\n",
       "</div>"
      ],
      "text/plain": [
       "                                                 payload  is_malicious  \\\n",
       "index                                                                    \n",
       "0      <div style=\"list-style:url(http://foo.f)\\20url...             1   \n",
       "1                                              74345001P             0   \n",
       "2                                               broccoli             0   \n",
       "3      <iframe src=`http://xssme.html5sec.org/?xss=<i...             1   \n",
       "4                                              federally             0   \n",
       "\n",
       "      injection_type  length  punctuation  sql-keywords  js-keywords  \n",
       "index                                                                 \n",
       "0                XSS      82           21             1            1  \n",
       "1              VALID       9            0             0            0  \n",
       "2              VALID       8            0             0            0  \n",
       "3                XSS     280           78             6            9  \n",
       "4              VALID       9            0             1            1  "
      ]
     },
     "metadata": {},
     "output_type": "display_data"
    },
    {
     "name": "stdout",
     "output_type": "stream",
     "text": [
      "Properties of feature: js-keywords\n",
      "count    110356.000000\n",
      "mean          0.354852\n",
      "std           0.821222\n",
      "min           0.000000\n",
      "25%           0.000000\n",
      "50%           0.000000\n",
      "75%           0.000000\n",
      "max          15.000000\n",
      "Name: js-keywords, dtype: float64\n"
     ]
    },
    {
     "data": {
      "image/png": "[encoded data removed]",
      "text/plain": [
       "<matplotlib.figure.Figure at 0x1a19b395c0>"
      ]
     },
     "metadata": {},
     "output_type": "display_data"
    }
   ],
   "source": [
    "js_keywords = pd.read_csv('data/JSKeywords.txt', index_col=False)\n",
    "\n",
    "def feature_js_keywords(payloads):\n",
    "    payloads['js-keywords'] = [len([1 for keyword in js_keywords['Keyword'] if str(keyword).lower() in str(row).lower()]) for row in payloads['payload']]\n",
    "    return payloads\n",
    "    \n",
    "feature_js_keywords(payloads)\n",
    "display(payloads.head())    \n",
    "plot_feature_distribution(payloads['js-keywords'])"
   ]
  },
  {
   "cell_type": "markdown",
   "metadata": {},
   "source": [
    "### 6. Minimum byte value"
   ]
  },
  {
   "cell_type": "code",
   "execution_count": 18,
   "metadata": {},
   "outputs": [
    {
     "data": {
      "text/html": [
       "<div>\n",
       "<style scoped>\n",
       "    .dataframe tbody tr th:only-of-type {\n",
       "        vertical-align: middle;\n",
       "    }\n",
       "\n",
       "    .dataframe tbody tr th {\n",
       "        vertical-align: top;\n",
       "    }\n",
       "\n",
       "    .dataframe thead th {\n",
       "        text-align: right;\n",
       "    }\n",
       "</style>\n",
       "<table border=\"1\" class=\"dataframe\">\n",
       "  <thead>\n",
       "    <tr style=\"text-align: right;\">\n",
       "      <th></th>\n",
       "      <th>payload</th>\n",
       "      <th>is_malicious</th>\n",
       "      <th>injection_type</th>\n",
       "      <th>length</th>\n",
       "      <th>punctuation</th>\n",
       "      <th>sql-keywords</th>\n",
       "      <th>js-keywords</th>\n",
       "      <th>min-byte</th>\n",
       "    </tr>\n",
       "    <tr>\n",
       "      <th>index</th>\n",
       "      <th></th>\n",
       "      <th></th>\n",
       "      <th></th>\n",
       "      <th></th>\n",
       "      <th></th>\n",
       "      <th></th>\n",
       "      <th></th>\n",
       "      <th></th>\n",
       "    </tr>\n",
       "  </thead>\n",
       "  <tbody>\n",
       "    <tr>\n",
       "      <th>0</th>\n",
       "      <td>&lt;div style=\"list-style:url(http://foo.f)\\20url...</td>\n",
       "      <td>1</td>\n",
       "      <td>XSS</td>\n",
       "      <td>82</td>\n",
       "      <td>21</td>\n",
       "      <td>1</td>\n",
       "      <td>1</td>\n",
       "      <td>32</td>\n",
       "    </tr>\n",
       "    <tr>\n",
       "      <th>1</th>\n",
       "      <td>74345001P</td>\n",
       "      <td>0</td>\n",
       "      <td>VALID</td>\n",
       "      <td>9</td>\n",
       "      <td>0</td>\n",
       "      <td>0</td>\n",
       "      <td>0</td>\n",
       "      <td>48</td>\n",
       "    </tr>\n",
       "    <tr>\n",
       "      <th>2</th>\n",
       "      <td>broccoli</td>\n",
       "      <td>0</td>\n",
       "      <td>VALID</td>\n",
       "      <td>8</td>\n",
       "      <td>0</td>\n",
       "      <td>0</td>\n",
       "      <td>0</td>\n",
       "      <td>98</td>\n",
       "    </tr>\n",
       "    <tr>\n",
       "      <th>3</th>\n",
       "      <td>&lt;iframe src=`http://xssme.html5sec.org/?xss=&lt;i...</td>\n",
       "      <td>1</td>\n",
       "      <td>XSS</td>\n",
       "      <td>280</td>\n",
       "      <td>78</td>\n",
       "      <td>6</td>\n",
       "      <td>9</td>\n",
       "      <td>32</td>\n",
       "    </tr>\n",
       "    <tr>\n",
       "      <th>4</th>\n",
       "      <td>federally</td>\n",
       "      <td>0</td>\n",
       "      <td>VALID</td>\n",
       "      <td>9</td>\n",
       "      <td>0</td>\n",
       "      <td>1</td>\n",
       "      <td>1</td>\n",
       "      <td>97</td>\n",
       "    </tr>\n",
       "  </tbody>\n",
       "</table>\n",
       "</div>"
      ],
      "text/plain": [
       "                                                 payload  is_malicious  \\\n",
       "index                                                                    \n",
       "0      <div style=\"list-style:url(http://foo.f)\\20url...             1   \n",
       "1                                              74345001P             0   \n",
       "2                                               broccoli             0   \n",
       "3      <iframe src=`http://xssme.html5sec.org/?xss=<i...             1   \n",
       "4                                              federally             0   \n",
       "\n",
       "      injection_type  length  punctuation  sql-keywords  js-keywords  min-byte  \n",
       "index                                                                           \n",
       "0                XSS      82           21             1            1        32  \n",
       "1              VALID       9            0             0            0        48  \n",
       "2              VALID       8            0             0            0        98  \n",
       "3                XSS     280           78             6            9        32  \n",
       "4              VALID       9            0             1            1        97  "
      ]
     },
     "metadata": {},
     "output_type": "display_data"
    },
    {
     "name": "stdout",
     "output_type": "stream",
     "text": [
      "Properties of feature: min-byte\n",
      "count    110356.000000\n",
      "mean         71.225516\n",
      "std          26.545790\n",
      "min           9.000000\n",
      "25%          48.000000\n",
      "50%          75.000000\n",
      "75%          97.000000\n",
      "max         125.000000\n",
      "Name: min-byte, dtype: float64\n"
     ]
    },
    {
     "data": {
      "image/png": "[encoded data removed]",
      "text/plain": [
       "<matplotlib.figure.Figure at 0x1a1aacae80>"
      ]
     },
     "metadata": {},
     "output_type": "display_data"
    }
   ],
   "source": [
    "def feature_min_byte_value(payloads):\n",
    "    payloads['min-byte'] = [ min(bytearray(str(row), 'utf8')) for row in payloads['payload']]\n",
    "    return payloads\n",
    "\n",
    "feature_min_byte_value(payloads)\n",
    "display(payloads.head())\n",
    "\n",
    "plot_feature_distribution(payloads['min-byte'])"
   ]
  },
  {
   "cell_type": "markdown",
   "metadata": {},
   "source": [
    "### 7. Maximum byte value "
   ]
  },
  {
   "cell_type": "code",
   "execution_count": 19,
   "metadata": {},
   "outputs": [
    {
     "data": {
      "text/html": [
       "<div>\n",
       "<style scoped>\n",
       "    .dataframe tbody tr th:only-of-type {\n",
       "        vertical-align: middle;\n",
       "    }\n",
       "\n",
       "    .dataframe tbody tr th {\n",
       "        vertical-align: top;\n",
       "    }\n",
       "\n",
       "    .dataframe thead th {\n",
       "        text-align: right;\n",
       "    }\n",
       "</style>\n",
       "<table border=\"1\" class=\"dataframe\">\n",
       "  <thead>\n",
       "    <tr style=\"text-align: right;\">\n",
       "      <th></th>\n",
       "      <th>payload</th>\n",
       "      <th>is_malicious</th>\n",
       "      <th>injection_type</th>\n",
       "      <th>length</th>\n",
       "      <th>punctuation</th>\n",
       "      <th>sql-keywords</th>\n",
       "      <th>js-keywords</th>\n",
       "      <th>min-byte</th>\n",
       "      <th>max-byte</th>\n",
       "    </tr>\n",
       "    <tr>\n",
       "      <th>index</th>\n",
       "      <th></th>\n",
       "      <th></th>\n",
       "      <th></th>\n",
       "      <th></th>\n",
       "      <th></th>\n",
       "      <th></th>\n",
       "      <th></th>\n",
       "      <th></th>\n",
       "      <th></th>\n",
       "    </tr>\n",
       "  </thead>\n",
       "  <tbody>\n",
       "    <tr>\n",
       "      <th>0</th>\n",
       "      <td>&lt;div style=\"list-style:url(http://foo.f)\\20url...</td>\n",
       "      <td>1</td>\n",
       "      <td>XSS</td>\n",
       "      <td>82</td>\n",
       "      <td>21</td>\n",
       "      <td>1</td>\n",
       "      <td>1</td>\n",
       "      <td>32</td>\n",
       "      <td>121</td>\n",
       "    </tr>\n",
       "    <tr>\n",
       "      <th>1</th>\n",
       "      <td>74345001P</td>\n",
       "      <td>0</td>\n",
       "      <td>VALID</td>\n",
       "      <td>9</td>\n",
       "      <td>0</td>\n",
       "      <td>0</td>\n",
       "      <td>0</td>\n",
       "      <td>48</td>\n",
       "      <td>80</td>\n",
       "    </tr>\n",
       "    <tr>\n",
       "      <th>2</th>\n",
       "      <td>broccoli</td>\n",
       "      <td>0</td>\n",
       "      <td>VALID</td>\n",
       "      <td>8</td>\n",
       "      <td>0</td>\n",
       "      <td>0</td>\n",
       "      <td>0</td>\n",
       "      <td>98</td>\n",
       "      <td>114</td>\n",
       "    </tr>\n",
       "    <tr>\n",
       "      <th>3</th>\n",
       "      <td>&lt;iframe src=`http://xssme.html5sec.org/?xss=&lt;i...</td>\n",
       "      <td>1</td>\n",
       "      <td>XSS</td>\n",
       "      <td>280</td>\n",
       "      <td>78</td>\n",
       "      <td>6</td>\n",
       "      <td>9</td>\n",
       "      <td>32</td>\n",
       "      <td>125</td>\n",
       "    </tr>\n",
       "    <tr>\n",
       "      <th>4</th>\n",
       "      <td>federally</td>\n",
       "      <td>0</td>\n",
       "      <td>VALID</td>\n",
       "      <td>9</td>\n",
       "      <td>0</td>\n",
       "      <td>1</td>\n",
       "      <td>1</td>\n",
       "      <td>97</td>\n",
       "      <td>121</td>\n",
       "    </tr>\n",
       "  </tbody>\n",
       "</table>\n",
       "</div>"
      ],
      "text/plain": [
       "                                                 payload  is_malicious  \\\n",
       "index                                                                    \n",
       "0      <div style=\"list-style:url(http://foo.f)\\20url...             1   \n",
       "1                                              74345001P             0   \n",
       "2                                               broccoli             0   \n",
       "3      <iframe src=`http://xssme.html5sec.org/?xss=<i...             1   \n",
       "4                                              federally             0   \n",
       "\n",
       "      injection_type  length  punctuation  sql-keywords  js-keywords  \\\n",
       "index                                                                  \n",
       "0                XSS      82           21             1            1   \n",
       "1              VALID       9            0             0            0   \n",
       "2              VALID       8            0             0            0   \n",
       "3                XSS     280           78             6            9   \n",
       "4              VALID       9            0             1            1   \n",
       "\n",
       "       min-byte  max-byte  \n",
       "index                      \n",
       "0            32       121  \n",
       "1            48        80  \n",
       "2            98       114  \n",
       "3            32       125  \n",
       "4            97       121  "
      ]
     },
     "metadata": {},
     "output_type": "display_data"
    },
    {
     "name": "stdout",
     "output_type": "stream",
     "text": [
      "Properties of feature: max-byte\n",
      "count    110356.000000\n",
      "mean        109.495161\n",
      "std          20.327776\n",
      "min          33.000000\n",
      "25%         114.000000\n",
      "50%         116.000000\n",
      "75%         118.000000\n",
      "max         240.000000\n",
      "Name: max-byte, dtype: float64\n"
     ]
    },
    {
     "data": {
      "image/png": "[encoded data removed]",
      "text/plain": [
       "<matplotlib.figure.Figure at 0x1a19f87be0>"
      ]
     },
     "metadata": {},
     "output_type": "display_data"
    }
   ],
   "source": [
    "def feature_max_byte_value(payloads):\n",
    "    payloads['max-byte'] = [ max(bytearray(str(row), 'utf8')) for row in payloads['payload']]\n",
    "    return payloads\n",
    "\n",
    "feature_max_byte_value(payloads)\n",
    "display(payloads.head())\n",
    "\n",
    "plot_feature_distribution(payloads['max-byte'])"
   ]
  },
  {
   "cell_type": "markdown",
   "metadata": {},
   "source": [
    "### 8. Mean byte value"
   ]
  },
  {
   "cell_type": "code",
   "execution_count": 20,
   "metadata": {},
   "outputs": [
    {
     "data": {
      "text/html": [
       "<div>\n",
       "<style scoped>\n",
       "    .dataframe tbody tr th:only-of-type {\n",
       "        vertical-align: middle;\n",
       "    }\n",
       "\n",
       "    .dataframe tbody tr th {\n",
       "        vertical-align: top;\n",
       "    }\n",
       "\n",
       "    .dataframe thead th {\n",
       "        text-align: right;\n",
       "    }\n",
       "</style>\n",
       "<table border=\"1\" class=\"dataframe\">\n",
       "  <thead>\n",
       "    <tr style=\"text-align: right;\">\n",
       "      <th></th>\n",
       "      <th>payload</th>\n",
       "      <th>is_malicious</th>\n",
       "      <th>injection_type</th>\n",
       "      <th>length</th>\n",
       "      <th>punctuation</th>\n",
       "      <th>sql-keywords</th>\n",
       "      <th>js-keywords</th>\n",
       "      <th>min-byte</th>\n",
       "      <th>max-byte</th>\n",
       "      <th>mean-byte</th>\n",
       "    </tr>\n",
       "    <tr>\n",
       "      <th>index</th>\n",
       "      <th></th>\n",
       "      <th></th>\n",
       "      <th></th>\n",
       "      <th></th>\n",
       "      <th></th>\n",
       "      <th></th>\n",
       "      <th></th>\n",
       "      <th></th>\n",
       "      <th></th>\n",
       "      <th></th>\n",
       "    </tr>\n",
       "  </thead>\n",
       "  <tbody>\n",
       "    <tr>\n",
       "      <th>0</th>\n",
       "      <td>&lt;div style=\"list-style:url(http://foo.f)\\20url...</td>\n",
       "      <td>1</td>\n",
       "      <td>XSS</td>\n",
       "      <td>82</td>\n",
       "      <td>21</td>\n",
       "      <td>1</td>\n",
       "      <td>1</td>\n",
       "      <td>32</td>\n",
       "      <td>121</td>\n",
       "      <td>91.024390</td>\n",
       "    </tr>\n",
       "    <tr>\n",
       "      <th>1</th>\n",
       "      <td>74345001P</td>\n",
       "      <td>0</td>\n",
       "      <td>VALID</td>\n",
       "      <td>9</td>\n",
       "      <td>0</td>\n",
       "      <td>0</td>\n",
       "      <td>0</td>\n",
       "      <td>48</td>\n",
       "      <td>80</td>\n",
       "      <td>54.222222</td>\n",
       "    </tr>\n",
       "    <tr>\n",
       "      <th>2</th>\n",
       "      <td>broccoli</td>\n",
       "      <td>0</td>\n",
       "      <td>VALID</td>\n",
       "      <td>8</td>\n",
       "      <td>0</td>\n",
       "      <td>0</td>\n",
       "      <td>0</td>\n",
       "      <td>98</td>\n",
       "      <td>114</td>\n",
       "      <td>105.625000</td>\n",
       "    </tr>\n",
       "    <tr>\n",
       "      <th>3</th>\n",
       "      <td>&lt;iframe src=`http://xssme.html5sec.org/?xss=&lt;i...</td>\n",
       "      <td>1</td>\n",
       "      <td>XSS</td>\n",
       "      <td>280</td>\n",
       "      <td>78</td>\n",
       "      <td>6</td>\n",
       "      <td>9</td>\n",
       "      <td>32</td>\n",
       "      <td>125</td>\n",
       "      <td>88.764286</td>\n",
       "    </tr>\n",
       "    <tr>\n",
       "      <th>4</th>\n",
       "      <td>federally</td>\n",
       "      <td>0</td>\n",
       "      <td>VALID</td>\n",
       "      <td>9</td>\n",
       "      <td>0</td>\n",
       "      <td>1</td>\n",
       "      <td>1</td>\n",
       "      <td>97</td>\n",
       "      <td>121</td>\n",
       "      <td>105.777778</td>\n",
       "    </tr>\n",
       "  </tbody>\n",
       "</table>\n",
       "</div>"
      ],
      "text/plain": [
       "                                                 payload  is_malicious  \\\n",
       "index                                                                    \n",
       "0      <div style=\"list-style:url(http://foo.f)\\20url...             1   \n",
       "1                                              74345001P             0   \n",
       "2                                               broccoli             0   \n",
       "3      <iframe src=`http://xssme.html5sec.org/?xss=<i...             1   \n",
       "4                                              federally             0   \n",
       "\n",
       "      injection_type  length  punctuation  sql-keywords  js-keywords  \\\n",
       "index                                                                  \n",
       "0                XSS      82           21             1            1   \n",
       "1              VALID       9            0             0            0   \n",
       "2              VALID       8            0             0            0   \n",
       "3                XSS     280           78             6            9   \n",
       "4              VALID       9            0             1            1   \n",
       "\n",
       "       min-byte  max-byte   mean-byte  \n",
       "index                                  \n",
       "0            32       121   91.024390  \n",
       "1            48        80   54.222222  \n",
       "2            98       114  105.625000  \n",
       "3            32       125   88.764286  \n",
       "4            97       121  105.777778  "
      ]
     },
     "metadata": {},
     "output_type": "display_data"
    },
    {
     "name": "stdout",
     "output_type": "stream",
     "text": [
      "Properties of feature: mean-byte\n",
      "count    110356.000000\n",
      "mean         92.513928\n",
      "std          19.323097\n",
      "min          33.000000\n",
      "25%          83.000000\n",
      "50%         101.000000\n",
      "75%         107.000000\n",
      "max         164.000000\n",
      "Name: mean-byte, dtype: float64\n"
     ]
    },
    {
     "data": {
      "image/png": "[encoded data removed]",
      "text/plain": [
       "<matplotlib.figure.Figure at 0x1a1acfe278>"
      ]
     },
     "metadata": {},
     "output_type": "display_data"
    }
   ],
   "source": [
    "def feature_mean_byte_value(payloads):\n",
    "    payloads['mean-byte'] = [ np.mean(bytearray(str(row), 'utf8')) for row in payloads['payload']]\n",
    "    return payloads\n",
    "\n",
    "feature_mean_byte_value(payloads)\n",
    "display(payloads.head())\n",
    "\n",
    "plot_feature_distribution(payloads['mean-byte'].astype(int))"
   ]
  },
  {
   "cell_type": "markdown",
   "metadata": {},
   "source": [
    "### 9. Standard deviation byte value"
   ]
  },
  {
   "cell_type": "code",
   "execution_count": 21,
   "metadata": {},
   "outputs": [
    {
     "data": {
      "text/html": [
       "<div>\n",
       "<style scoped>\n",
       "    .dataframe tbody tr th:only-of-type {\n",
       "        vertical-align: middle;\n",
       "    }\n",
       "\n",
       "    .dataframe tbody tr th {\n",
       "        vertical-align: top;\n",
       "    }\n",
       "\n",
       "    .dataframe thead th {\n",
       "        text-align: right;\n",
       "    }\n",
       "</style>\n",
       "<table border=\"1\" class=\"dataframe\">\n",
       "  <thead>\n",
       "    <tr style=\"text-align: right;\">\n",
       "      <th></th>\n",
       "      <th>payload</th>\n",
       "      <th>is_malicious</th>\n",
       "      <th>injection_type</th>\n",
       "      <th>length</th>\n",
       "      <th>punctuation</th>\n",
       "      <th>sql-keywords</th>\n",
       "      <th>js-keywords</th>\n",
       "      <th>min-byte</th>\n",
       "      <th>max-byte</th>\n",
       "      <th>mean-byte</th>\n",
       "      <th>std-byte</th>\n",
       "    </tr>\n",
       "    <tr>\n",
       "      <th>index</th>\n",
       "      <th></th>\n",
       "      <th></th>\n",
       "      <th></th>\n",
       "      <th></th>\n",
       "      <th></th>\n",
       "      <th></th>\n",
       "      <th></th>\n",
       "      <th></th>\n",
       "      <th></th>\n",
       "      <th></th>\n",
       "      <th></th>\n",
       "    </tr>\n",
       "  </thead>\n",
       "  <tbody>\n",
       "    <tr>\n",
       "      <th>0</th>\n",
       "      <td>&lt;div style=\"list-style:url(http://foo.f)\\20url...</td>\n",
       "      <td>1</td>\n",
       "      <td>XSS</td>\n",
       "      <td>82</td>\n",
       "      <td>21</td>\n",
       "      <td>1</td>\n",
       "      <td>1</td>\n",
       "      <td>32</td>\n",
       "      <td>121</td>\n",
       "      <td>91.024390</td>\n",
       "      <td>28.952432</td>\n",
       "    </tr>\n",
       "    <tr>\n",
       "      <th>1</th>\n",
       "      <td>74345001P</td>\n",
       "      <td>0</td>\n",
       "      <td>VALID</td>\n",
       "      <td>9</td>\n",
       "      <td>0</td>\n",
       "      <td>0</td>\n",
       "      <td>0</td>\n",
       "      <td>48</td>\n",
       "      <td>80</td>\n",
       "      <td>54.222222</td>\n",
       "      <td>9.378199</td>\n",
       "    </tr>\n",
       "    <tr>\n",
       "      <th>2</th>\n",
       "      <td>broccoli</td>\n",
       "      <td>0</td>\n",
       "      <td>VALID</td>\n",
       "      <td>8</td>\n",
       "      <td>0</td>\n",
       "      <td>0</td>\n",
       "      <td>0</td>\n",
       "      <td>98</td>\n",
       "      <td>114</td>\n",
       "      <td>105.625000</td>\n",
       "      <td>5.914759</td>\n",
       "    </tr>\n",
       "    <tr>\n",
       "      <th>3</th>\n",
       "      <td>&lt;iframe src=`http://xssme.html5sec.org/?xss=&lt;i...</td>\n",
       "      <td>1</td>\n",
       "      <td>XSS</td>\n",
       "      <td>280</td>\n",
       "      <td>78</td>\n",
       "      <td>6</td>\n",
       "      <td>9</td>\n",
       "      <td>32</td>\n",
       "      <td>125</td>\n",
       "      <td>88.764286</td>\n",
       "      <td>29.192492</td>\n",
       "    </tr>\n",
       "    <tr>\n",
       "      <th>4</th>\n",
       "      <td>federally</td>\n",
       "      <td>0</td>\n",
       "      <td>VALID</td>\n",
       "      <td>9</td>\n",
       "      <td>0</td>\n",
       "      <td>1</td>\n",
       "      <td>1</td>\n",
       "      <td>97</td>\n",
       "      <td>121</td>\n",
       "      <td>105.777778</td>\n",
       "      <td>7.299586</td>\n",
       "    </tr>\n",
       "  </tbody>\n",
       "</table>\n",
       "</div>"
      ],
      "text/plain": [
       "                                                 payload  is_malicious  \\\n",
       "index                                                                    \n",
       "0      <div style=\"list-style:url(http://foo.f)\\20url...             1   \n",
       "1                                              74345001P             0   \n",
       "2                                               broccoli             0   \n",
       "3      <iframe src=`http://xssme.html5sec.org/?xss=<i...             1   \n",
       "4                                              federally             0   \n",
       "\n",
       "      injection_type  length  punctuation  sql-keywords  js-keywords  \\\n",
       "index                                                                  \n",
       "0                XSS      82           21             1            1   \n",
       "1              VALID       9            0             0            0   \n",
       "2              VALID       8            0             0            0   \n",
       "3                XSS     280           78             6            9   \n",
       "4              VALID       9            0             1            1   \n",
       "\n",
       "       min-byte  max-byte   mean-byte   std-byte  \n",
       "index                                             \n",
       "0            32       121   91.024390  28.952432  \n",
       "1            48        80   54.222222   9.378199  \n",
       "2            98       114  105.625000   5.914759  \n",
       "3            32       125   88.764286  29.192492  \n",
       "4            97       121  105.777778   7.299586  "
      ]
     },
     "metadata": {},
     "output_type": "display_data"
    },
    {
     "name": "stdout",
     "output_type": "stream",
     "text": [
      "Properties of feature: std-byte\n",
      "count    110356.000000\n",
      "mean         12.155732\n",
      "std           9.201211\n",
      "min           0.000000\n",
      "25%           5.000000\n",
      "50%           7.000000\n",
      "75%          20.000000\n",
      "max          75.000000\n",
      "Name: std-byte, dtype: float64\n"
     ]
    },
    {
     "data": {
      "image/png": "[encoded data removed]",
      "text/plain": [
       "<matplotlib.figure.Figure at 0x1a19e12550>"
      ]
     },
     "metadata": {},
     "output_type": "display_data"
    }
   ],
   "source": [
    "def feature_std_byte_value(payloads):    \n",
    "    payloads['std-byte'] = [ np.std(bytearray(str(row), 'utf8')) for row in payloads['payload']]\n",
    "    return payloads\n",
    "\n",
    "feature_std_byte_value(payloads)\n",
    "display(payloads.head())\n",
    "\n",
    "plot_feature_distribution(payloads['std-byte'].astype(int))"
   ]
  },
  {
   "cell_type": "markdown",
   "metadata": {},
   "source": [
    "### Feature 10: Distinct bytes"
   ]
  },
  {
   "cell_type": "code",
   "execution_count": 22,
   "metadata": {},
   "outputs": [
    {
     "data": {
      "text/html": [
       "<div>\n",
       "<style scoped>\n",
       "    .dataframe tbody tr th:only-of-type {\n",
       "        vertical-align: middle;\n",
       "    }\n",
       "\n",
       "    .dataframe tbody tr th {\n",
       "        vertical-align: top;\n",
       "    }\n",
       "\n",
       "    .dataframe thead th {\n",
       "        text-align: right;\n",
       "    }\n",
       "</style>\n",
       "<table border=\"1\" class=\"dataframe\">\n",
       "  <thead>\n",
       "    <tr style=\"text-align: right;\">\n",
       "      <th></th>\n",
       "      <th>payload</th>\n",
       "      <th>is_malicious</th>\n",
       "      <th>injection_type</th>\n",
       "      <th>length</th>\n",
       "      <th>punctuation</th>\n",
       "      <th>sql-keywords</th>\n",
       "      <th>js-keywords</th>\n",
       "      <th>min-byte</th>\n",
       "      <th>max-byte</th>\n",
       "      <th>mean-byte</th>\n",
       "      <th>std-byte</th>\n",
       "      <th>distinct-bytes</th>\n",
       "    </tr>\n",
       "    <tr>\n",
       "      <th>index</th>\n",
       "      <th></th>\n",
       "      <th></th>\n",
       "      <th></th>\n",
       "      <th></th>\n",
       "      <th></th>\n",
       "      <th></th>\n",
       "      <th></th>\n",
       "      <th></th>\n",
       "      <th></th>\n",
       "      <th></th>\n",
       "      <th></th>\n",
       "      <th></th>\n",
       "    </tr>\n",
       "  </thead>\n",
       "  <tbody>\n",
       "    <tr>\n",
       "      <th>0</th>\n",
       "      <td>&lt;div style=\"list-style:url(http://foo.f)\\20url...</td>\n",
       "      <td>1</td>\n",
       "      <td>XSS</td>\n",
       "      <td>82</td>\n",
       "      <td>21</td>\n",
       "      <td>1</td>\n",
       "      <td>1</td>\n",
       "      <td>32</td>\n",
       "      <td>121</td>\n",
       "      <td>91.024390</td>\n",
       "      <td>28.952432</td>\n",
       "      <td>34</td>\n",
       "    </tr>\n",
       "    <tr>\n",
       "      <th>1</th>\n",
       "      <td>74345001P</td>\n",
       "      <td>0</td>\n",
       "      <td>VALID</td>\n",
       "      <td>9</td>\n",
       "      <td>0</td>\n",
       "      <td>0</td>\n",
       "      <td>0</td>\n",
       "      <td>48</td>\n",
       "      <td>80</td>\n",
       "      <td>54.222222</td>\n",
       "      <td>9.378199</td>\n",
       "      <td>7</td>\n",
       "    </tr>\n",
       "    <tr>\n",
       "      <th>2</th>\n",
       "      <td>broccoli</td>\n",
       "      <td>0</td>\n",
       "      <td>VALID</td>\n",
       "      <td>8</td>\n",
       "      <td>0</td>\n",
       "      <td>0</td>\n",
       "      <td>0</td>\n",
       "      <td>98</td>\n",
       "      <td>114</td>\n",
       "      <td>105.625000</td>\n",
       "      <td>5.914759</td>\n",
       "      <td>6</td>\n",
       "    </tr>\n",
       "    <tr>\n",
       "      <th>3</th>\n",
       "      <td>&lt;iframe src=`http://xssme.html5sec.org/?xss=&lt;i...</td>\n",
       "      <td>1</td>\n",
       "      <td>XSS</td>\n",
       "      <td>280</td>\n",
       "      <td>78</td>\n",
       "      <td>6</td>\n",
       "      <td>9</td>\n",
       "      <td>32</td>\n",
       "      <td>125</td>\n",
       "      <td>88.764286</td>\n",
       "      <td>29.192492</td>\n",
       "      <td>57</td>\n",
       "    </tr>\n",
       "    <tr>\n",
       "      <th>4</th>\n",
       "      <td>federally</td>\n",
       "      <td>0</td>\n",
       "      <td>VALID</td>\n",
       "      <td>9</td>\n",
       "      <td>0</td>\n",
       "      <td>1</td>\n",
       "      <td>1</td>\n",
       "      <td>97</td>\n",
       "      <td>121</td>\n",
       "      <td>105.777778</td>\n",
       "      <td>7.299586</td>\n",
       "      <td>7</td>\n",
       "    </tr>\n",
       "  </tbody>\n",
       "</table>\n",
       "</div>"
      ],
      "text/plain": [
       "                                                 payload  is_malicious  \\\n",
       "index                                                                    \n",
       "0      <div style=\"list-style:url(http://foo.f)\\20url...             1   \n",
       "1                                              74345001P             0   \n",
       "2                                               broccoli             0   \n",
       "3      <iframe src=`http://xssme.html5sec.org/?xss=<i...             1   \n",
       "4                                              federally             0   \n",
       "\n",
       "      injection_type  length  punctuation  sql-keywords  js-keywords  \\\n",
       "index                                                                  \n",
       "0                XSS      82           21             1            1   \n",
       "1              VALID       9            0             0            0   \n",
       "2              VALID       8            0             0            0   \n",
       "3                XSS     280           78             6            9   \n",
       "4              VALID       9            0             1            1   \n",
       "\n",
       "       min-byte  max-byte   mean-byte   std-byte  distinct-bytes  \n",
       "index                                                             \n",
       "0            32       121   91.024390  28.952432              34  \n",
       "1            48        80   54.222222   9.378199               7  \n",
       "2            98       114  105.625000   5.914759               6  \n",
       "3            32       125   88.764286  29.192492              57  \n",
       "4            97       121  105.777778   7.299586               7  "
      ]
     },
     "metadata": {},
     "output_type": "display_data"
    },
    {
     "name": "stdout",
     "output_type": "stream",
     "text": [
      "Properties of feature: distinct-bytes\n",
      "count    110356.000000\n",
      "mean          9.483145\n",
      "std           7.410805\n",
      "min           1.000000\n",
      "25%           5.000000\n",
      "50%           7.000000\n",
      "75%          10.000000\n",
      "max          76.000000\n",
      "Name: distinct-bytes, dtype: float64\n"
     ]
    },
    {
     "data": {
      "image/png": "[encoded data removed]",
      "text/plain": [
       "<matplotlib.figure.Figure at 0x1a1abb8cf8>"
      ]
     },
     "metadata": {},
     "output_type": "display_data"
    }
   ],
   "source": [
    "def feature_distinct_bytes(payloads):\n",
    "    payloads['distinct-bytes'] = [ len(list(set(bytearray(str(row), 'utf8')))) for row in payloads['payload']]\n",
    "    return payloads\n",
    "\n",
    "feature_distinct_bytes(payloads)\n",
    "display(payloads.head())\n",
    "\n",
    "plot_feature_distribution(payloads['distinct-bytes'])"
   ]
  },
  {
   "cell_type": "markdown",
   "metadata": {},
   "source": [
    "### 11. Number of non printable characthers within payload"
   ]
  },
  {
   "cell_type": "code",
   "execution_count": 23,
   "metadata": {},
   "outputs": [
    {
     "data": {
      "text/html": [
       "<div>\n",
       "<style scoped>\n",
       "    .dataframe tbody tr th:only-of-type {\n",
       "        vertical-align: middle;\n",
       "    }\n",
       "\n",
       "    .dataframe tbody tr th {\n",
       "        vertical-align: top;\n",
       "    }\n",
       "\n",
       "    .dataframe thead th {\n",
       "        text-align: right;\n",
       "    }\n",
       "</style>\n",
       "<table border=\"1\" class=\"dataframe\">\n",
       "  <thead>\n",
       "    <tr style=\"text-align: right;\">\n",
       "      <th></th>\n",
       "      <th>payload</th>\n",
       "      <th>is_malicious</th>\n",
       "      <th>injection_type</th>\n",
       "      <th>length</th>\n",
       "      <th>punctuation</th>\n",
       "      <th>sql-keywords</th>\n",
       "      <th>js-keywords</th>\n",
       "      <th>min-byte</th>\n",
       "      <th>max-byte</th>\n",
       "      <th>mean-byte</th>\n",
       "      <th>std-byte</th>\n",
       "      <th>distinct-bytes</th>\n",
       "      <th>non-printable</th>\n",
       "    </tr>\n",
       "    <tr>\n",
       "      <th>index</th>\n",
       "      <th></th>\n",
       "      <th></th>\n",
       "      <th></th>\n",
       "      <th></th>\n",
       "      <th></th>\n",
       "      <th></th>\n",
       "      <th></th>\n",
       "      <th></th>\n",
       "      <th></th>\n",
       "      <th></th>\n",
       "      <th></th>\n",
       "      <th></th>\n",
       "      <th></th>\n",
       "    </tr>\n",
       "  </thead>\n",
       "  <tbody>\n",
       "    <tr>\n",
       "      <th>0</th>\n",
       "      <td>&lt;div style=\"list-style:url(http://foo.f)\\20url...</td>\n",
       "      <td>1</td>\n",
       "      <td>XSS</td>\n",
       "      <td>82</td>\n",
       "      <td>21</td>\n",
       "      <td>1</td>\n",
       "      <td>1</td>\n",
       "      <td>32</td>\n",
       "      <td>121</td>\n",
       "      <td>91.024390</td>\n",
       "      <td>28.952432</td>\n",
       "      <td>34</td>\n",
       "      <td>0</td>\n",
       "    </tr>\n",
       "    <tr>\n",
       "      <th>1</th>\n",
       "      <td>74345001P</td>\n",
       "      <td>0</td>\n",
       "      <td>VALID</td>\n",
       "      <td>9</td>\n",
       "      <td>0</td>\n",
       "      <td>0</td>\n",
       "      <td>0</td>\n",
       "      <td>48</td>\n",
       "      <td>80</td>\n",
       "      <td>54.222222</td>\n",
       "      <td>9.378199</td>\n",
       "      <td>7</td>\n",
       "      <td>0</td>\n",
       "    </tr>\n",
       "    <tr>\n",
       "      <th>2</th>\n",
       "      <td>broccoli</td>\n",
       "      <td>0</td>\n",
       "      <td>VALID</td>\n",
       "      <td>8</td>\n",
       "      <td>0</td>\n",
       "      <td>0</td>\n",
       "      <td>0</td>\n",
       "      <td>98</td>\n",
       "      <td>114</td>\n",
       "      <td>105.625000</td>\n",
       "      <td>5.914759</td>\n",
       "      <td>6</td>\n",
       "      <td>0</td>\n",
       "    </tr>\n",
       "    <tr>\n",
       "      <th>3</th>\n",
       "      <td>&lt;iframe src=`http://xssme.html5sec.org/?xss=&lt;i...</td>\n",
       "      <td>1</td>\n",
       "      <td>XSS</td>\n",
       "      <td>280</td>\n",
       "      <td>78</td>\n",
       "      <td>6</td>\n",
       "      <td>9</td>\n",
       "      <td>32</td>\n",
       "      <td>125</td>\n",
       "      <td>88.764286</td>\n",
       "      <td>29.192492</td>\n",
       "      <td>57</td>\n",
       "      <td>0</td>\n",
       "    </tr>\n",
       "    <tr>\n",
       "      <th>4</th>\n",
       "      <td>federally</td>\n",
       "      <td>0</td>\n",
       "      <td>VALID</td>\n",
       "      <td>9</td>\n",
       "      <td>0</td>\n",
       "      <td>1</td>\n",
       "      <td>1</td>\n",
       "      <td>97</td>\n",
       "      <td>121</td>\n",
       "      <td>105.777778</td>\n",
       "      <td>7.299586</td>\n",
       "      <td>7</td>\n",
       "      <td>0</td>\n",
       "    </tr>\n",
       "  </tbody>\n",
       "</table>\n",
       "</div>"
      ],
      "text/plain": [
       "                                                 payload  is_malicious  \\\n",
       "index                                                                    \n",
       "0      <div style=\"list-style:url(http://foo.f)\\20url...             1   \n",
       "1                                              74345001P             0   \n",
       "2                                               broccoli             0   \n",
       "3      <iframe src=`http://xssme.html5sec.org/?xss=<i...             1   \n",
       "4                                              federally             0   \n",
       "\n",
       "      injection_type  length  punctuation  sql-keywords  js-keywords  \\\n",
       "index                                                                  \n",
       "0                XSS      82           21             1            1   \n",
       "1              VALID       9            0             0            0   \n",
       "2              VALID       8            0             0            0   \n",
       "3                XSS     280           78             6            9   \n",
       "4              VALID       9            0             1            1   \n",
       "\n",
       "       min-byte  max-byte   mean-byte   std-byte  distinct-bytes  \\\n",
       "index                                                              \n",
       "0            32       121   91.024390  28.952432              34   \n",
       "1            48        80   54.222222   9.378199               7   \n",
       "2            98       114  105.625000   5.914759               6   \n",
       "3            32       125   88.764286  29.192492              57   \n",
       "4            97       121  105.777778   7.299586               7   \n",
       "\n",
       "       non-printable  \n",
       "index                 \n",
       "0                  0  \n",
       "1                  0  \n",
       "2                  0  \n",
       "3                  0  \n",
       "4                  0  "
      ]
     },
     "metadata": {},
     "output_type": "display_data"
    },
    {
     "name": "stdout",
     "output_type": "stream",
     "text": [
      "Properties of feature: non-printable\n",
      "count    110356.000000\n",
      "mean          0.007412\n",
      "std           0.216737\n",
      "min           0.000000\n",
      "25%           0.000000\n",
      "50%           0.000000\n",
      "75%           0.000000\n",
      "max          30.000000\n",
      "Name: non-printable, dtype: float64\n"
     ]
    },
    {
     "data": {
      "image/png": "[encoded data removed]",
      "text/plain": [
       "<matplotlib.figure.Figure at 0x1a1acf6f60>"
      ]
     },
     "metadata": {},
     "output_type": "display_data"
    }
   ],
   "source": [
    "def feature_non_printable_characters(payloads):  \n",
    "    payloads['non-printable'] = [ len([1 for letter in str(row) if letter not in string.printable]) for row in payloads['payload']]\n",
    "    return payloads\n",
    "    \n",
    "feature_non_printable_characters(payloads)\n",
    "display(payloads.head())\n",
    "    \n",
    "plot_feature_distribution(payloads['non-printable'])"
   ]
  },
  {
   "cell_type": "markdown",
   "metadata": {},
   "source": [
    "## 5. Score Features"
   ]
  },
  {
   "cell_type": "code",
   "execution_count": 24,
   "metadata": {},
   "outputs": [],
   "source": [
    "def create_features(payloads):\n",
    "    features = feature_length(payloads)\n",
    "    features = feature_punctuation_characters(features)\n",
    "    features = feature_sql_keywords(features)\n",
    "    features = feature_js_keywords(features)\n",
    "    features = feature_max_byte_value(features)\n",
    "    features = feature_min_byte_value(features)\n",
    "    features = feature_mean_byte_value(features)\n",
    "    features = feature_std_byte_value(features)\n",
    "    features = feature_distinct_bytes(features)\n",
    "    features = feature_non_printable_characters (features)\n",
    "    del features['payload']\n",
    "\n",
    "    return features"
   ]
  },
  {
   "cell_type": "code",
   "execution_count": 25,
   "metadata": {},
   "outputs": [
    {
     "name": "stdout",
     "output_type": "stream",
     "text": [
      "[ 1741929.44820417  1327625.82771143    33369.90307091    49252.5838244\n",
      "    11962.11865915   209304.11862388    16749.65761306   202112.95919597\n",
      "   289324.88425161     8314.92536977]\n",
      "[ 1741929.45  1327625.83    33369.9     49252.58    11962.12   209304.12\n",
      "    16749.66   202112.96   289324.88     8314.93]\n"
     ]
    },
    {
     "data": {
      "text/plain": [
       "['non-printable',\n",
       " 'max-byte',\n",
       " 'mean-byte',\n",
       " 'sql-keywords',\n",
       " 'js-keywords',\n",
       " 'std-byte',\n",
       " 'min-byte',\n",
       " 'distinct-bytes',\n",
       " 'punctuation',\n",
       " 'length']"
      ]
     },
     "metadata": {},
     "output_type": "display_data"
    },
    {
     "data": {
      "text/plain": [
       "['length 8314.92536977',\n",
       " 'js-keywords 11962.1186591',\n",
       " 'min-byte 16749.6576131',\n",
       " 'mean-byte 33369.9030709',\n",
       " 'sql-keywords 49252.5838244',\n",
       " 'distinct-bytes 202112.959196',\n",
       " 'std-byte 209304.118624',\n",
       " 'punctuation 289324.884252',\n",
       " 'max-byte 1327625.82771',\n",
       " 'non-printable 1741929.4482']"
      ]
     },
     "metadata": {},
     "output_type": "display_data"
    },
    {
     "data": {
      "image/png": "[encoded data removed]",
      "text/plain": [
       "<matplotlib.figure.Figure at 0x1a1ab924a8>"
      ]
     },
     "metadata": {},
     "output_type": "display_data"
    }
   ],
   "source": [
    "Y = payloads['is_malicious']\n",
    "X = create_features(pd.DataFrame(payloads['payload'].copy()))\n",
    "\n",
    "\n",
    "test = SelectKBest(score_func=chi2, k='all')\n",
    "fit = test.fit(X, Y)\n",
    "# summarize scores\n",
    "print(fit.scores_)\n",
    "features = fit.transform(X)\n",
    "# summarize selected features\n",
    "# summarize scores\n",
    "np.set_printoptions(precision=2)\n",
    "print(fit.scores_)\n",
    "\n",
    "# Get the indices sorted by most important to least important\n",
    "indices = np.argsort(fit.scores_)\n",
    "\n",
    "# To get your top 10 feature names\n",
    "featuress = []\n",
    "for i in range(10):\n",
    "    featuress.append(X.columns[indices[i]])\n",
    "\n",
    "display(featuress)\n",
    "display([featuress[i] + ' ' + str(fit.scores_[i]) for i in indices[range(10)]])\n",
    "\n",
    "\n",
    "plt.rcdefaults()\n",
    "fig, ax = plt.subplots()\n",
    "\n",
    "y_pos = np.arange(len(featuress))\n",
    "performance = 3 + 10 * np.random.rand(len(featuress))\n",
    "error = np.random.rand(len(featuress))\n",
    "\n",
    "ax.barh(y_pos, fit.scores_[indices[range(10)]],  align='center',\n",
    "        color='green', ecolor='black')\n",
    "ax.set_yticks(y_pos)\n",
    "ax.set_yticklabels(featuress)\n",
    "ax.set_xscale('log')\n",
    "\n",
    "#ax.invert_yaxis()  # labels read top-to-bottom\n",
    "ax.set_xlabel('Points')\n",
    "ax.set_title('SelectKBest()')\n",
    "\n",
    "plt.show()"
   ]
  },
  {
   "cell_type": "markdown",
   "metadata": {},
   "source": [
    "## 6. Model Selection and Hyperparameter tuning "
   ]
  },
  {
   "cell_type": "raw",
   "metadata": {},
   "source": [
    "In machine learning, hyperparameter optimization or tuning is the problem of choosing a set of optimal hyperparameters for a learning algorithm.\n",
    "\n",
    "The same kind of machine learning model can require different constraints, weights or learning rates to generalize different data patterns. These measures are called hyperparameters"
   ]
  },
  {
   "cell_type": "code",
   "execution_count": 26,
   "metadata": {},
   "outputs": [],
   "source": [
    "def train_model(clf, param_grid, X, Y):\n",
    "    '''Trains and evaluates the model clf from input\n",
    "    \n",
    "    The function selects the best model of clf by optimizing for the validation data,\n",
    "    then evaluates its performance using the out of sample test data.\n",
    "    \n",
    "    input - clf: the model to train\n",
    "            param_grid: a dict of hyperparameters to use for optimization\n",
    "            X: features\n",
    "            Y: labels\n",
    "    \n",
    "    output - the best estimator (trained model)\n",
    "             the confusion matrix from classifying the test data\n",
    "    '''\n",
    "    \n",
    "    #First, partition into train and test data\n",
    "    X_train, X_test, Y_train, Y_test = train_test_split(X, Y, test_size=0.2, random_state=42)\n",
    "\n",
    "    n_iter = 5\n",
    "    #If number of possible iterations are less than prefered number of iterations, \n",
    "    #set it to the number of possible iterations\n",
    "    #number of possible iterations are not less than prefered number of iterations if any argument is expon()\n",
    "    #because expon() is continous (writing 100 instead, could be any large number)\n",
    "    n_iter = min(n_iter,np.prod([\n",
    "        100 if type(xs) == type(expon()) \n",
    "        else len(xs) \n",
    "        for xs in param_grid.values()\n",
    "    ]))\n",
    "    \n",
    "    #perform a grid search for the best parameters on the training data.\n",
    "    #Cross validation is made to select the parameters, so the training data is actually split into\n",
    "    #a new train data set and a validation data set, K number of times\n",
    "    cv = ShuffleSplit(n=len(X_train), n_iter=5, test_size=0.2, random_state=0) #DEBUG: n_iter=10\n",
    "    #cv = KFold(n=len(X), n_folds=10)\n",
    "    random_grid_search = RandomizedSearchCV(\n",
    "        clf, \n",
    "        param_distributions=param_grid,\n",
    "        cv=cv, \n",
    "        scoring='f1', \n",
    "        n_iter=n_iter, #DEBUG 1 \n",
    "        random_state=5,\n",
    "        refit=True,\n",
    "        verbose=10\n",
    "    )\n",
    "    \n",
    "    '''Randomized search used instead. We have limited computing power\n",
    "    grid_search = GridSearchCV(\n",
    "        clf,\n",
    "        param_grid=param_grid,\n",
    "        cv=cv,\n",
    "        scoring='f1', #accuracy/f1/f1_weighted all give same result?\n",
    "        verbose=10,\n",
    "        n_jobs=-1\n",
    "    )\n",
    "    grid_search.fit(X_train, Y_train)\n",
    "    '''\n",
    "    random_grid_search.fit(X_train, Y_train)\n",
    "    \n",
    "    #Evaluate the best model on the test data\n",
    "    Y_test_predicted = random_grid_search.best_estimator_.predict(X_test)\n",
    "    Y_test_predicted_prob = random_grid_search.best_estimator_.predict_proba(X_test)[:, 1]\n",
    "\n",
    "    confusion = confusion_matrix(Y_test, Y_test_predicted)\n",
    "    TP = confusion[1, 1]\n",
    "    TN = confusion[0, 0]\n",
    "    FP = confusion[0, 1]\n",
    "    FN = confusion[1, 0]\n",
    "\n",
    "    #Calculate recall (sensitivity) from confusion matrix\n",
    "    sensitivity = TP / float(TP + FN)\n",
    "    \n",
    "    #Calculate specificity from confusion matrix\n",
    "    specificity = TN / float(TN + FP)\n",
    "\n",
    "    #Calculate accuracy\n",
    "    accuracy = (confusion[0][0] + confusion[1][1]) / (confusion.sum().sum())\n",
    "    \n",
    "    #Calculate axes of ROC curve\n",
    "    fpr, tpr, thresholds = roc_curve(Y_test, Y_test_predicted_prob)\n",
    "    \n",
    "    #Area under the ROC curve\n",
    "    auc = roc_auc_score(Y_test, Y_test_predicted_prob)\n",
    "\n",
    "    return {\n",
    "        'conf_matrix':confusion, \n",
    "        'accuracy':accuracy, \n",
    "        'sensitivity':sensitivity,\n",
    "        'specificity':specificity,\n",
    "        'auc':auc,\n",
    "        'params':random_grid_search.best_params_,\n",
    "        'model':random_grid_search.best_estimator_,\n",
    "        'roc':{'fpr':fpr,'tpr':tpr,'thresholds':thresholds}\n",
    "    }"
   ]
  },
  {
   "cell_type": "markdown",
   "metadata": {},
   "source": [
    "## 7. Select ML algorithm"
   ]
  },
  {
   "cell_type": "code",
   "execution_count": 27,
   "metadata": {},
   "outputs": [],
   "source": [
    "def create_classifier_inputs(subscript):\n",
    "    \n",
    "    classifier_inputs = {}\n",
    "    \n",
    "    # 1. Random Forest\n",
    "    \n",
    "    classifier_inputs[subscript + ' RandomForest'] = {\n",
    "        'pipeline':RandomForestClassifier(\n",
    "            max_depth=None,min_samples_split=2, random_state=0),\n",
    "        'dict_params': {\n",
    "            'n_estimators':[10,20,40,60]\n",
    "        }\n",
    "    }\n",
    "    \n",
    "    \n",
    "    # 2. Support vector machine (SVM)\n",
    "    '''\n",
    "    classifier_inputs[subscript + ' SVM'] = {\n",
    "        'pipeline':SVC(probability=True),\n",
    "        'dict_params': {\n",
    "            'C':[0.001, 0.01, 0.1, 1, 10, 100, 1000],\n",
    "            'gamma':[0.001, 0.0001,'auto'],\n",
    "            'kernel':['rbf']\n",
    "        }\n",
    "    }\n",
    "    '''\n",
    "    \n",
    "    return classifier_inputs"
   ]
  },
  {
   "cell_type": "code",
   "execution_count": 28,
   "metadata": {},
   "outputs": [
    {
     "data": {
      "text/html": [
       "<div>\n",
       "<style scoped>\n",
       "    .dataframe tbody tr th:only-of-type {\n",
       "        vertical-align: middle;\n",
       "    }\n",
       "\n",
       "    .dataframe tbody tr th {\n",
       "        vertical-align: top;\n",
       "    }\n",
       "\n",
       "    .dataframe thead th {\n",
       "        text-align: right;\n",
       "    }\n",
       "</style>\n",
       "<table border=\"1\" class=\"dataframe\">\n",
       "  <thead>\n",
       "    <tr style=\"text-align: right;\">\n",
       "      <th></th>\n",
       "      <th>accuracy</th>\n",
       "      <th>sensitivity</th>\n",
       "      <th>specificity</th>\n",
       "      <th>auc</th>\n",
       "      <th>conf_matrix</th>\n",
       "      <th>params</th>\n",
       "      <th>model</th>\n",
       "      <th>roc</th>\n",
       "    </tr>\n",
       "  </thead>\n",
       "  <tbody>\n",
       "  </tbody>\n",
       "</table>\n",
       "</div>"
      ],
      "text/plain": [
       "Empty DataFrame\n",
       "Columns: [accuracy, sensitivity, specificity, auc, conf_matrix, params, model, roc]\n",
       "Index: []"
      ]
     },
     "metadata": {},
     "output_type": "display_data"
    }
   ],
   "source": [
    "classifier_results = pd.DataFrame(columns=['accuracy','sensitivity','specificity','auc','conf_matrix','params','model','roc'])#,index=classifier_inputs.keys())\n",
    "display(classifier_results.head())"
   ]
  },
  {
   "cell_type": "markdown",
   "metadata": {},
   "source": [
    "## 8. Train the model"
   ]
  },
  {
   "cell_type": "code",
   "execution_count": 29,
   "metadata": {},
   "outputs": [
    {
     "name": "stdout",
     "output_type": "stream",
     "text": [
      "Fitting 5 folds for each of 4 candidates, totalling 20 fits\n",
      "[CV] n_estimators=10 .................................................\n",
      "[CV] ......... n_estimators=10, score=0.978956999085087, total=   0.6s\n",
      "[CV] n_estimators=10 .................................................\n"
     ]
    },
    {
     "name": "stderr",
     "output_type": "stream",
     "text": [
      "[Parallel(n_jobs=1)]: Done   1 out of   1 | elapsed:    0.7s remaining:    0.0s\n"
     ]
    },
    {
     "name": "stdout",
     "output_type": "stream",
     "text": [
      "[CV] ........ n_estimators=10, score=0.9756997846816364, total=   0.6s\n",
      "[CV] n_estimators=10 .................................................\n"
     ]
    },
    {
     "name": "stderr",
     "output_type": "stream",
     "text": [
      "[Parallel(n_jobs=1)]: Done   2 out of   2 | elapsed:    1.4s remaining:    0.0s\n"
     ]
    },
    {
     "name": "stdout",
     "output_type": "stream",
     "text": [
      "[CV] ........ n_estimators=10, score=0.9743272502319827, total=   0.6s\n",
      "[CV] n_estimators=10 .................................................\n"
     ]
    },
    {
     "name": "stderr",
     "output_type": "stream",
     "text": [
      "[Parallel(n_jobs=1)]: Done   3 out of   3 | elapsed:    2.1s remaining:    0.0s\n"
     ]
    },
    {
     "name": "stdout",
     "output_type": "stream",
     "text": [
      "[CV] ........ n_estimators=10, score=0.9735725938009788, total=   0.6s\n",
      "[CV] n_estimators=10 .................................................\n"
     ]
    },
    {
     "name": "stderr",
     "output_type": "stream",
     "text": [
      "[Parallel(n_jobs=1)]: Done   4 out of   4 | elapsed:    2.8s remaining:    0.0s\n"
     ]
    },
    {
     "name": "stdout",
     "output_type": "stream",
     "text": [
      "[CV] ......... n_estimators=10, score=0.971465213209362, total=   0.6s\n",
      "[CV] n_estimators=20 .................................................\n"
     ]
    },
    {
     "name": "stderr",
     "output_type": "stream",
     "text": [
      "[Parallel(n_jobs=1)]: Done   5 out of   5 | elapsed:    3.5s remaining:    0.0s\n"
     ]
    },
    {
     "name": "stdout",
     "output_type": "stream",
     "text": [
      "[CV] ........ n_estimators=20, score=0.9792682926829268, total=   1.2s\n",
      "[CV] n_estimators=20 .................................................\n"
     ]
    },
    {
     "name": "stderr",
     "output_type": "stream",
     "text": [
      "[Parallel(n_jobs=1)]: Done   6 out of   6 | elapsed:    4.8s remaining:    0.0s\n"
     ]
    },
    {
     "name": "stdout",
     "output_type": "stream",
     "text": [
      "[CV] ........ n_estimators=20, score=0.9794667483910512, total=   1.3s\n",
      "[CV] n_estimators=20 .................................................\n"
     ]
    },
    {
     "name": "stderr",
     "output_type": "stream",
     "text": [
      "[Parallel(n_jobs=1)]: Done   7 out of   7 | elapsed:    6.1s remaining:    0.0s\n"
     ]
    },
    {
     "name": "stdout",
     "output_type": "stream",
     "text": [
      "[CV] ........ n_estimators=20, score=0.9765432098765433, total=   1.2s\n",
      "[CV] n_estimators=20 .................................................\n"
     ]
    },
    {
     "name": "stderr",
     "output_type": "stream",
     "text": [
      "[Parallel(n_jobs=1)]: Done   8 out of   8 | elapsed:    7.4s remaining:    0.0s\n"
     ]
    },
    {
     "name": "stdout",
     "output_type": "stream",
     "text": [
      "[CV] ........ n_estimators=20, score=0.9761982393218129, total=   1.2s\n",
      "[CV] n_estimators=20 .................................................\n"
     ]
    },
    {
     "name": "stderr",
     "output_type": "stream",
     "text": [
      "[Parallel(n_jobs=1)]: Done   9 out of   9 | elapsed:    8.7s remaining:    0.0s\n"
     ]
    },
    {
     "name": "stdout",
     "output_type": "stream",
     "text": [
      "[CV] ........ n_estimators=20, score=0.9737516005121639, total=   1.1s\n",
      "[CV] n_estimators=40 .................................................\n",
      "[CV] ........ n_estimators=40, score=0.9801889667784212, total=   2.3s\n",
      "[CV] n_estimators=40 .................................................\n",
      "[CV] ........ n_estimators=40, score=0.9794918885827978, total=   2.4s\n",
      "[CV] n_estimators=40 .................................................\n",
      "[CV] ........ n_estimators=40, score=0.9784747847478474, total=   2.2s\n",
      "[CV] n_estimators=40 .................................................\n",
      "[CV] ........ n_estimators=40, score=0.9761827079934747, total=   2.4s\n",
      "[CV] n_estimators=40 .................................................\n",
      "[CV] ..................... n_estimators=40, score=0.976, total=   2.3s\n",
      "[CV] n_estimators=60 .................................................\n",
      "[CV] ........ n_estimators=60, score=0.9799025578562728, total=   3.5s\n",
      "[CV] n_estimators=60 .................................................\n",
      "[CV] ........ n_estimators=60, score=0.9795044356072194, total=   3.7s\n",
      "[CV] n_estimators=60 .................................................\n",
      "[CV] ........ n_estimators=60, score=0.9788018433179724, total=   3.5s\n",
      "[CV] n_estimators=60 .................................................\n",
      "[CV] ........ n_estimators=60, score=0.9761982393218129, total=   3.7s\n",
      "[CV] n_estimators=60 .................................................\n",
      "[CV] ........ n_estimators=60, score=0.9776071657069738, total=   3.6s\n"
     ]
    },
    {
     "name": "stderr",
     "output_type": "stream",
     "text": [
      "[Parallel(n_jobs=1)]: Done  20 out of  20 | elapsed:   42.2s finished\n"
     ]
    },
    {
     "data": {
      "text/html": [
       "<div>\n",
       "<style scoped>\n",
       "    .dataframe tbody tr th:only-of-type {\n",
       "        vertical-align: middle;\n",
       "    }\n",
       "\n",
       "    .dataframe tbody tr th {\n",
       "        vertical-align: top;\n",
       "    }\n",
       "\n",
       "    .dataframe thead th {\n",
       "        text-align: right;\n",
       "    }\n",
       "</style>\n",
       "<table border=\"1\" class=\"dataframe\">\n",
       "  <thead>\n",
       "    <tr style=\"text-align: right;\">\n",
       "      <th></th>\n",
       "      <th>accuracy</th>\n",
       "      <th>sensitivity</th>\n",
       "      <th>specificity</th>\n",
       "      <th>auc</th>\n",
       "      <th>conf_matrix</th>\n",
       "      <th>params</th>\n",
       "      <th>model</th>\n",
       "      <th>roc</th>\n",
       "    </tr>\n",
       "  </thead>\n",
       "  <tbody>\n",
       "    <tr>\n",
       "      <th>custom RandomForest</th>\n",
       "      <td>0.997055</td>\n",
       "      <td>0.978825</td>\n",
       "      <td>0.998761</td>\n",
       "      <td>0.999584</td>\n",
       "      <td>[[20158, 25], [40, 1849]]</td>\n",
       "      <td>{'n_estimators': 60}</td>\n",
       "      <td>(DecisionTreeClassifier(class_weight=None, cri...</td>\n",
       "      <td>{'fpr': [0.0, 0.0, 4.95466481693e-05, 4.954664...</td>\n",
       "    </tr>\n",
       "  </tbody>\n",
       "</table>\n",
       "</div>"
      ],
      "text/plain": [
       "                     accuracy  sensitivity  specificity       auc  \\\n",
       "custom RandomForest  0.997055     0.978825     0.998761  0.999584   \n",
       "\n",
       "                                   conf_matrix                params  \\\n",
       "custom RandomForest  [[20158, 25], [40, 1849]]  {'n_estimators': 60}   \n",
       "\n",
       "                                                                 model  \\\n",
       "custom RandomForest  (DecisionTreeClassifier(class_weight=None, cri...   \n",
       "\n",
       "                                                                   roc  \n",
       "custom RandomForest  {'fpr': [0.0, 0.0, 4.95466481693e-05, 4.954664...  "
      ]
     },
     "metadata": {},
     "output_type": "display_data"
    }
   ],
   "source": [
    "classifier_inputs_custom = {}\n",
    "\n",
    "#Get classifiers and parameters to optimize\n",
    "classifier_inputs_custom.update(create_classifier_inputs('custom'))\n",
    "\n",
    "#Extract payloads and labels\n",
    "Y = payloads['is_malicious']\n",
    "X = create_features(pd.DataFrame(payloads['payload'].copy()))\n",
    "\n",
    "#Select the best features\n",
    "X_new = SelectKBest(score_func=chi2, k=4).fit_transform(X,Y)\n",
    "\n",
    "#Call train_model for every classifier and save results to classifier_results\n",
    "for classifier_name, inputs in classifier_inputs_custom.items():\n",
    "    if classifier_name in classifier_results.index.values.tolist():\n",
    "        print('Skipping ' + classifier_name + ', already trained')\n",
    "    else:\n",
    "        result_dict = train_model(inputs['pipeline'],inputs['dict_params'],X,Y)\n",
    "        classifier_results.loc[classifier_name] = result_dict\n",
    "\n",
    "display(classifier_results)"
   ]
  },
  {
   "cell_type": "markdown",
   "metadata": {},
   "source": [
    "## 9.  Save classifier in a pickle file to be able to re-use them without re-training"
   ]
  },
  {
   "cell_type": "code",
   "execution_count": 30,
   "metadata": {},
   "outputs": [
    {
     "data": {
      "text/html": [
       "<div>\n",
       "<style scoped>\n",
       "    .dataframe tbody tr th:only-of-type {\n",
       "        vertical-align: middle;\n",
       "    }\n",
       "\n",
       "    .dataframe tbody tr th {\n",
       "        vertical-align: top;\n",
       "    }\n",
       "\n",
       "    .dataframe thead th {\n",
       "        text-align: right;\n",
       "    }\n",
       "</style>\n",
       "<table border=\"1\" class=\"dataframe\">\n",
       "  <thead>\n",
       "    <tr style=\"text-align: right;\">\n",
       "      <th></th>\n",
       "      <th>accuracy</th>\n",
       "      <th>sensitivity</th>\n",
       "      <th>specificity</th>\n",
       "      <th>auc</th>\n",
       "      <th>conf_matrix</th>\n",
       "      <th>params</th>\n",
       "      <th>model</th>\n",
       "      <th>roc</th>\n",
       "    </tr>\n",
       "  </thead>\n",
       "  <tbody>\n",
       "    <tr>\n",
       "      <th>custom RandomForest</th>\n",
       "      <td>0.997055</td>\n",
       "      <td>0.978825</td>\n",
       "      <td>0.998761</td>\n",
       "      <td>0.999584</td>\n",
       "      <td>[[20158, 25], [40, 1849]]</td>\n",
       "      <td>{'n_estimators': 60}</td>\n",
       "      <td>(DecisionTreeClassifier(class_weight=None, cri...</td>\n",
       "      <td>{'fpr': [0.0, 0.0, 4.95466481693e-05, 4.954664...</td>\n",
       "    </tr>\n",
       "  </tbody>\n",
       "</table>\n",
       "</div>"
      ],
      "text/plain": [
       "                     accuracy  sensitivity  specificity       auc  \\\n",
       "custom RandomForest  0.997055     0.978825     0.998761  0.999584   \n",
       "\n",
       "                                   conf_matrix                params  \\\n",
       "custom RandomForest  [[20158, 25], [40, 1849]]  {'n_estimators': 60}   \n",
       "\n",
       "                                                                 model  \\\n",
       "custom RandomForest  (DecisionTreeClassifier(class_weight=None, cri...   \n",
       "\n",
       "                                                                   roc  \n",
       "custom RandomForest  {'fpr': [0.0, 0.0, 4.95466481693e-05, 4.954664...  "
      ]
     },
     "metadata": {},
     "output_type": "display_data"
    }
   ],
   "source": [
    "pickle.dump( classifier_results, open( \"data/trained_classifiers_custom_all_features.p\", \"wb\" ) )\n",
    "custom_features_classifiers = pickle.load( open(\"data/trained_classifiers_custom_all_features.p\", \"rb\"))\n",
    "display(custom_features_classifiers)"
   ]
  },
  {
   "cell_type": "markdown",
   "metadata": {},
   "source": [
    "## 10. Bag of words techniques"
   ]
  },
  {
   "cell_type": "markdown",
   "metadata": {},
   "source": [
    "#### a. 1-grams features "
   ]
  },
  {
   "cell_type": "code",
   "execution_count": 31,
   "metadata": {},
   "outputs": [],
   "source": [
    "def get1Grams(payload_obj):\n",
    "    payload = str(payload_obj)\n",
    "    ngrams = []\n",
    "    for i in range(0,len(payload)-1):\n",
    "        ngrams.append(payload[i:i+1])\n",
    "    return ngrams\n",
    "tfidf_vectorizer_1grams = TfidfVectorizer(tokenizer=get1Grams)\n",
    "count_vectorizer_1grams = CountVectorizer(min_df=1, tokenizer=get1Grams)"
   ]
  },
  {
   "cell_type": "markdown",
   "metadata": {},
   "source": [
    "#### b. 2-grams features"
   ]
  },
  {
   "cell_type": "code",
   "execution_count": 32,
   "metadata": {},
   "outputs": [],
   "source": [
    "def get2Grams(payload_obj):\n",
    "    payload = str(payload_obj)\n",
    "    ngrams = []\n",
    "    for i in range(0,len(payload)-2):\n",
    "        ngrams.append(payload[i:i+2])\n",
    "    return ngrams\n",
    "\n",
    "tfidf_vectorizer_2grams = TfidfVectorizer(tokenizer=get2Grams)\n",
    "count_vectorizer_2grams = CountVectorizer(min_df=1, tokenizer=get2Grams)"
   ]
  },
  {
   "cell_type": "markdown",
   "metadata": {},
   "source": [
    "#### c. Apply random forest"
   ]
  },
  {
   "cell_type": "code",
   "execution_count": 33,
   "metadata": {},
   "outputs": [],
   "source": [
    "def classifier_inputs_using_vectorizers(vectorizer, subscript):\n",
    "    \n",
    "    classifier_in = {}\n",
    "    \n",
    "    classifier_in[subscript + ' RandomForest'] = {\n",
    "        'pipeline':Pipeline([('vect', vectorizer),('clf',RandomForestClassifier(\n",
    "            max_depth=None,min_samples_split=2, random_state=0))]),\n",
    "        'dict_params': {\n",
    "            'vect__min_df':[1,2,5,10,20,40],\n",
    "            'clf__n_estimators':[10,20,40,60]\n",
    "        }\n",
    "    }\n",
    "         \n",
    "    return classifier_in"
   ]
  },
  {
   "cell_type": "code",
   "execution_count": null,
   "metadata": {},
   "outputs": [
    {
     "data": {
      "text/html": [
       "<div>\n",
       "<style scoped>\n",
       "    .dataframe tbody tr th:only-of-type {\n",
       "        vertical-align: middle;\n",
       "    }\n",
       "\n",
       "    .dataframe tbody tr th {\n",
       "        vertical-align: top;\n",
       "    }\n",
       "\n",
       "    .dataframe thead th {\n",
       "        text-align: right;\n",
       "    }\n",
       "</style>\n",
       "<table border=\"1\" class=\"dataframe\">\n",
       "  <thead>\n",
       "    <tr style=\"text-align: right;\">\n",
       "      <th></th>\n",
       "      <th>accuracy</th>\n",
       "      <th>sensitivity</th>\n",
       "      <th>specificity</th>\n",
       "      <th>auc</th>\n",
       "      <th>conf_matrix</th>\n",
       "      <th>params</th>\n",
       "      <th>model</th>\n",
       "      <th>roc</th>\n",
       "    </tr>\n",
       "  </thead>\n",
       "  <tbody>\n",
       "  </tbody>\n",
       "</table>\n",
       "</div>"
      ],
      "text/plain": [
       "Empty DataFrame\n",
       "Columns: [accuracy, sensitivity, specificity, auc, conf_matrix, params, model, roc]\n",
       "Index: []"
      ]
     },
     "metadata": {},
     "output_type": "display_data"
    }
   ],
   "source": [
    "classifier_results_grams = pd.DataFrame(columns=['accuracy','sensitivity','specificity','auc','conf_matrix','params','model','roc'])#,index=classifier_inputs.keys())\n",
    "display(classifier_results_grams.head())"
   ]
  },
  {
   "cell_type": "markdown",
   "metadata": {},
   "source": [
    "#### d. Train the model"
   ]
  },
  {
   "cell_type": "code",
   "execution_count": null,
   "metadata": {},
   "outputs": [
    {
     "data": {
      "text/plain": [
       "{'clf__n_estimators': [10, 20, 40, 60], 'vect__min_df': [1, 2, 5, 10, 20, 40]}"
      ]
     },
     "metadata": {},
     "output_type": "display_data"
    },
    {
     "name": "stdout",
     "output_type": "stream",
     "text": [
      "Fitting 5 folds for each of 5 candidates, totalling 25 fits\n",
      "[CV] vect__min_df=5, clf__n_estimators=60 ............................\n",
      "[CV]  vect__min_df=5, clf__n_estimators=60, score=0.9915458937198067, total=   6.5s\n",
      "[CV] vect__min_df=5, clf__n_estimators=60 ............................\n"
     ]
    },
    {
     "name": "stderr",
     "output_type": "stream",
     "text": [
      "[Parallel(n_jobs=1)]: Done   1 out of   1 | elapsed:    8.2s remaining:    0.0s\n"
     ]
    },
    {
     "name": "stdout",
     "output_type": "stream",
     "text": [
      "[CV]  vect__min_df=5, clf__n_estimators=60, score=0.9941949282004278, total=   6.4s\n",
      "[CV] vect__min_df=5, clf__n_estimators=60 ............................\n"
     ]
    },
    {
     "name": "stderr",
     "output_type": "stream",
     "text": [
      "[Parallel(n_jobs=1)]: Done   2 out of   2 | elapsed:   16.3s remaining:    0.0s\n"
     ]
    },
    {
     "name": "stdout",
     "output_type": "stream",
     "text": [
      "[CV]  vect__min_df=5, clf__n_estimators=60, score=0.9904878797177048, total=   6.4s\n",
      "[CV] vect__min_df=5, clf__n_estimators=60 ............................\n"
     ]
    },
    {
     "name": "stderr",
     "output_type": "stream",
     "text": [
      "[Parallel(n_jobs=1)]: Done   3 out of   3 | elapsed:   24.6s remaining:    0.0s\n"
     ]
    },
    {
     "name": "stdout",
     "output_type": "stream",
     "text": [
      "[CV]  vect__min_df=5, clf__n_estimators=60, score=0.9889682024659312, total=   7.1s\n",
      "[CV] vect__min_df=5, clf__n_estimators=60 ............................\n"
     ]
    },
    {
     "name": "stderr",
     "output_type": "stream",
     "text": [
      "[Parallel(n_jobs=1)]: Done   4 out of   4 | elapsed:   33.5s remaining:    0.0s\n"
     ]
    },
    {
     "name": "stdout",
     "output_type": "stream",
     "text": [
      "[CV]  vect__min_df=5, clf__n_estimators=60, score=0.9895271342430975, total=   7.3s\n",
      "[CV] vect__min_df=5, clf__n_estimators=10 ............................\n"
     ]
    },
    {
     "name": "stderr",
     "output_type": "stream",
     "text": [
      "[Parallel(n_jobs=1)]: Done   5 out of   5 | elapsed:   42.8s remaining:    0.0s\n"
     ]
    },
    {
     "name": "stdout",
     "output_type": "stream",
     "text": [
      "[CV]  vect__min_df=5, clf__n_estimators=10, score=0.9899969687784176, total=   1.9s\n",
      "[CV] vect__min_df=5, clf__n_estimators=10 ............................\n"
     ]
    },
    {
     "name": "stderr",
     "output_type": "stream",
     "text": [
      "[Parallel(n_jobs=1)]: Done   6 out of   6 | elapsed:   45.5s remaining:    0.0s\n"
     ]
    },
    {
     "name": "stdout",
     "output_type": "stream",
     "text": [
      "[CV]  vect__min_df=5, clf__n_estimators=10, score=0.9902080783353734, total=   1.9s\n",
      "[CV] vect__min_df=5, clf__n_estimators=10 ............................\n"
     ]
    },
    {
     "name": "stderr",
     "output_type": "stream",
     "text": [
      "[Parallel(n_jobs=1)]: Done   7 out of   7 | elapsed:   48.3s remaining:    0.0s\n"
     ]
    },
    {
     "name": "stdout",
     "output_type": "stream",
     "text": [
      "[CV]  vect__min_df=5, clf__n_estimators=10, score=0.9889298892988929, total=   1.7s\n",
      "[CV] vect__min_df=5, clf__n_estimators=10 ............................\n"
     ]
    },
    {
     "name": "stderr",
     "output_type": "stream",
     "text": [
      "[Parallel(n_jobs=1)]: Done   8 out of   8 | elapsed:   50.9s remaining:    0.0s\n"
     ]
    },
    {
     "name": "stdout",
     "output_type": "stream",
     "text": [
      "[CV]  vect__min_df=5, clf__n_estimators=10, score=0.9876221498371336, total=   1.8s\n",
      "[CV] vect__min_df=5, clf__n_estimators=10 ............................\n"
     ]
    },
    {
     "name": "stderr",
     "output_type": "stream",
     "text": [
      "[Parallel(n_jobs=1)]: Done   9 out of   9 | elapsed:   53.5s remaining:    0.0s\n"
     ]
    },
    {
     "name": "stdout",
     "output_type": "stream",
     "text": [
      "[CV]  vect__min_df=5, clf__n_estimators=10, score=0.9885496183206106, total=   1.8s\n",
      "[CV] vect__min_df=40, clf__n_estimators=40 ...........................\n",
      "[CV]  vect__min_df=40, clf__n_estimators=40, score=0.9924448473859172, total=   4.6s\n",
      "[CV] vect__min_df=40, clf__n_estimators=40 ...........................\n",
      "[CV]  vect__min_df=40, clf__n_estimators=40, score=0.9929728078215704, total=   4.5s\n",
      "[CV] vect__min_df=40, clf__n_estimators=40 ...........................\n",
      "[CV]  vect__min_df=40, clf__n_estimators=40, score=0.9917203311867525, total=   4.3s\n",
      "[CV] vect__min_df=40, clf__n_estimators=40 ...........................\n",
      "[CV]  vect__min_df=40, clf__n_estimators=40, score=0.9883040935672514, total=   4.5s\n",
      "[CV] vect__min_df=40, clf__n_estimators=40 ...........................\n",
      "[CV]  vect__min_df=40, clf__n_estimators=40, score=0.9904701397712834, total=   4.5s\n",
      "[CV] vect__min_df=1, clf__n_estimators=60 ............................\n"
     ]
    }
   ],
   "source": [
    "classifier_in = {}\n",
    "classifier_in.update(classifier_inputs_using_vectorizers(count_vectorizer_1grams,'count 1grams'))\n",
    "classifier_in.update(classifier_inputs_using_vectorizers(count_vectorizer_2grams,'count 2grams'))\n",
    "\n",
    "classifier_in.update(classifier_inputs_using_vectorizers(tfidf_vectorizer_1grams,'tfidf 1grams'))\n",
    "classifier_in.update(classifier_inputs_using_vectorizers(tfidf_vectorizer_2grams,'tfidf 2grams'))\n",
    "\n",
    "X = payloads['payload'] \n",
    "Y = payloads['is_malicious']\n",
    "\n",
    "for classifier_name, inputs in classifier_in.items():\n",
    "    display(inputs['dict_params'])\n",
    "    if classifier_name in classifier_results_grams.index.values.tolist():\n",
    "        print('Skipping ' + classifier_name + ', already trained')\n",
    "    else:\n",
    "        result_dict = train_model(inputs['pipeline'],inputs['dict_params'],X,Y)\n",
    "        classifier_results_grams.loc[classifier_name] = result_dict\n",
    "\n",
    "display(classifier_results_grams)"
   ]
  },
  {
   "cell_type": "code",
   "execution_count": null,
   "metadata": {},
   "outputs": [],
   "source": [
    "pickle.dump( classifier_results_grams, open( \"data/trained_classifiers.p\", \"wb\" ) )"
   ]
  },
  {
   "cell_type": "markdown",
   "metadata": {},
   "source": [
    "## 11. Integrate WAF with Webserver"
   ]
  },
  {
   "cell_type": "code",
   "execution_count": null,
   "metadata": {},
   "outputs": [],
   "source": [
    "import pickle\n",
    "from sklearn.feature_extraction.text import TfidfVectorizer\n",
    "from sklearn.ensemble import RandomForestClassifier\n",
    "\n",
    "def get2Grams(payload_obj):\n",
    "   \n",
    "    payload = str(payload_obj)\n",
    "    ngrams = []\n",
    "    for i in range(0,len(payload)-2):\n",
    "        ngrams.append(payload[i:i+2])\n",
    "    return ngrams\n",
    "\n",
    "classifier = pickle.load( open(\"data/tfidf_2grams_randomforest.p\", \"rb\"))\n",
    "\n",
    "def injection_test(inputs):\n",
    "    variables = inputs.split('&')\n",
    "    values = [ variable.split('=')[1] for variable in variables]\n",
    "    print(values)\n",
    "    return 'MALICIOUS' if classifier.predict(values).sum() > 0 else 'NOT_MALICIOUS'"
   ]
  },
  {
   "cell_type": "code",
   "execution_count": null,
   "metadata": {},
   "outputs": [],
   "source": [
    "#test injection_test\n",
    "display(injection_test(\"val1=<script>alert(0)</script>\"))\n",
    "display(injection_test(\"val1=Hello World\"))"
   ]
  },
  {
   "cell_type": "markdown",
   "metadata": {},
   "source": [
    "## 12. Learning Curves"
   ]
  },
  {
   "cell_type": "code",
   "execution_count": null,
   "metadata": {},
   "outputs": [],
   "source": [
    "def plot_learning_curve(df_row,X,Y):\n",
    "    '''Plots the learning curve of a classifier with its parameters\n",
    "    \n",
    "    input - df_row: row of classifier_result\n",
    "            X: payload data\n",
    "            Y: labels\n",
    "    '''\n",
    "    #The classifier to plot learning curve for\n",
    "    estimator = df_row['model']\n",
    "    \n",
    "    title = 'Learning curves for classifier ' + df_row.name\n",
    "    train_sizes = np.linspace(0.1,1.0,5)\n",
    "    cv = ShuffleSplit(n=len(X), n_iter=3, test_size=0.2, random_state=0)\n",
    "    \n",
    "    #plot settings\n",
    "    plt.figure()\n",
    "    plt.title(title)\n",
    "    plt.xlabel(\"Training examples\")\n",
    "    plt.ylabel(\"Score\")\n",
    "    \n",
    "    print('learning curve in process...')\n",
    "    train_sizes, train_scores, test_scores = learning_curve(\n",
    "        estimator, X, Y, cv=cv, n_jobs=-1, train_sizes=train_sizes, verbose=0) #Change verbose=10 to print progress\n",
    "    print('Learning curve done!')\n",
    "    \n",
    "    train_scores_mean = np.mean(train_scores, axis=1)\n",
    "    train_scores_std = np.std(train_scores, axis=1)\n",
    "    test_scores_mean = np.mean(test_scores, axis=1)\n",
    "    test_scores_std = np.std(test_scores, axis=1)\n",
    "    plt.grid()\n",
    "\n",
    "    plt.fill_between(train_sizes, train_scores_mean - train_scores_std,\n",
    "                     train_scores_mean + train_scores_std, alpha=0.1,\n",
    "                     color=\"r\")\n",
    "    plt.fill_between(train_sizes, test_scores_mean - test_scores_std,\n",
    "                     test_scores_mean + test_scores_std, alpha=0.1, color=\"g\")\n",
    "    plt.plot(train_sizes, train_scores_mean, 'o-', color=\"r\",\n",
    "             label=\"Training score\")\n",
    "    plt.plot(train_sizes, test_scores_mean, 'o-', color=\"g\",\n",
    "             label=\"Cross-validation score\")\n",
    "\n",
    "    plt.legend(loc=\"best\")\n",
    "    plt.show()"
   ]
  },
  {
   "cell_type": "code",
   "execution_count": null,
   "metadata": {},
   "outputs": [],
   "source": [
    "#plot learning curve for tfidf 1grams RandomForest\n",
    "X = payloads['payload']\n",
    "Y = payloads['is_malicious']\n",
    "plot_learning_curve(classifier_results_gramss.iloc[0],X,Y)\n",
    "\n",
    "\n",
    "#plot learning curve for custom Random Forest\n",
    "X = create_features(pd.DataFrame(payloads['payload'].copy()))\n",
    "Y = payloads['is_malicious']\n",
    "plot_learning_curve(classifier_results.iloc[0],X,Y)"
   ]
  }
 ],
 "metadata": {
  "kernelspec": {
   "display_name": "Python 3",
   "language": "python",
   "name": "python3"
  },
  "language_info": {
   "codemirror_mode": {
    "name": "ipython",
    "version": 3
   },
   "file_extension": ".py",
   "mimetype": "text/x-python",
   "name": "python",
   "nbconvert_exporter": "python",
   "pygments_lexer": "ipython3",
   "version": "3.6.4"
  }
 },
 "nbformat": 4,
 "nbformat_minor": 2
}
